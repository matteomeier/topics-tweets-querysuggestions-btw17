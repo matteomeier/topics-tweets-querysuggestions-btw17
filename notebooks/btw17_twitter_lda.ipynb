{
 "cells": [
  {
   "cell_type": "markdown",
   "metadata": {},
   "source": [
    "https://towardsdatascience.com/topic-modeling-and-latent-dirichlet-allocation-in-python-9bf156893c24"
   ]
  },
  {
   "cell_type": "code",
   "execution_count": 1,
   "metadata": {},
   "outputs": [],
   "source": [
    "# necessary imports\n",
    "import os, json\n",
    "import pandas as pd\n",
    "import numpy as np\n",
    "import glob\n",
    "from tqdm.notebook import tqdm\n",
    "pd.set_option('display.max_columns', None)\n",
    "import re\n",
    "from nltk.corpus import stopwords\n",
    "stopwords = stopwords.words('german')\n",
    "import spacy\n",
    "nlp = spacy.load('de_dep_news_trf')\n",
    "import nltk\n",
    "import gensim\n",
    "from gensim import corpora, models\n",
    "import warnings\n",
    "warnings.filterwarnings('ignore')"
   ]
  },
  {
   "cell_type": "code",
   "execution_count": 2,
   "metadata": {},
   "outputs": [
    {
     "data": {
      "text/html": [
       "<div>\n",
       "<style scoped>\n",
       "    .dataframe tbody tr th:only-of-type {\n",
       "        vertical-align: middle;\n",
       "    }\n",
       "\n",
       "    .dataframe tbody tr th {\n",
       "        vertical-align: top;\n",
       "    }\n",
       "\n",
       "    .dataframe thead th {\n",
       "        text-align: right;\n",
       "    }\n",
       "</style>\n",
       "<table border=\"1\" class=\"dataframe\">\n",
       "  <thead>\n",
       "    <tr style=\"text-align: right;\">\n",
       "      <th></th>\n",
       "      <th>created_at</th>\n",
       "      <th>id</th>\n",
       "      <th>text</th>\n",
       "      <th>user</th>\n",
       "      <th>entities</th>\n",
       "      <th>tags</th>\n",
       "    </tr>\n",
       "  </thead>\n",
       "  <tbody>\n",
       "    <tr>\n",
       "      <th>0</th>\n",
       "      <td>2017-06-28</td>\n",
       "      <td>8.798635e+17</td>\n",
       "      <td>RT @Junge_Freiheit: AfD-Vize Beatrix von Storc...</td>\n",
       "      <td>{'id': 728326774027919360, 'id_str': '72832677...</td>\n",
       "      <td>{'hashtags': [{'text': 'Ehefueralle', 'indices...</td>\n",
       "      <td>ehefueralle</td>\n",
       "    </tr>\n",
       "    <tr>\n",
       "      <th>1</th>\n",
       "      <td>2017-06-28</td>\n",
       "      <td>8.798879e+17</td>\n",
       "      <td>RT @AfD_Bund: Dr. @Alice_Weidel:\\n»#Ehefuerall...</td>\n",
       "      <td>{'id': 1222045254, 'id_str': '1222045254', 'na...</td>\n",
       "      <td>{'hashtags': [{'text': 'Ehefueralle', 'indices...</td>\n",
       "      <td>ehefueralle</td>\n",
       "    </tr>\n",
       "    <tr>\n",
       "      <th>2</th>\n",
       "      <td>2017-06-28</td>\n",
       "      <td>8.798901e+17</td>\n",
       "      <td>RT @hessenSPD: Abstimmen, abstimmen, abstimmen...</td>\n",
       "      <td>{'id': 2443895924, 'id_str': '2443895924', 'na...</td>\n",
       "      <td>{'hashtags': [{'text': 'ehefueralle', 'indices...</td>\n",
       "      <td>ehefueralle</td>\n",
       "    </tr>\n",
       "    <tr>\n",
       "      <th>3</th>\n",
       "      <td>2017-06-28</td>\n",
       "      <td>8.798903e+17</td>\n",
       "      <td>RT @Die_Gruenen: Hallo @spdbt! Jetzt hindert E...</td>\n",
       "      <td>{'id': 12302322, 'id_str': '12302322', 'name':...</td>\n",
       "      <td>{'hashtags': [{'text': 'Ehefueralle', 'indices...</td>\n",
       "      <td>ehefueralle</td>\n",
       "    </tr>\n",
       "    <tr>\n",
       "      <th>4</th>\n",
       "      <td>2017-06-28</td>\n",
       "      <td>8.798903e+17</td>\n",
       "      <td>RT @Die_Gruenen: \"Wer die Debatte auch nur hal...</td>\n",
       "      <td>{'id': 391983270, 'id_str': '391983270', 'name...</td>\n",
       "      <td>{'hashtags': [{'text': 'Ehefueralle', 'indices...</td>\n",
       "      <td>ehefueralle</td>\n",
       "    </tr>\n",
       "  </tbody>\n",
       "</table>\n",
       "</div>"
      ],
      "text/plain": [
       "   created_at            id  \\\n",
       "0  2017-06-28  8.798635e+17   \n",
       "1  2017-06-28  8.798879e+17   \n",
       "2  2017-06-28  8.798901e+17   \n",
       "3  2017-06-28  8.798903e+17   \n",
       "4  2017-06-28  8.798903e+17   \n",
       "\n",
       "                                                text  \\\n",
       "0  RT @Junge_Freiheit: AfD-Vize Beatrix von Storc...   \n",
       "1  RT @AfD_Bund: Dr. @Alice_Weidel:\\n»#Ehefuerall...   \n",
       "2  RT @hessenSPD: Abstimmen, abstimmen, abstimmen...   \n",
       "3  RT @Die_Gruenen: Hallo @spdbt! Jetzt hindert E...   \n",
       "4  RT @Die_Gruenen: \"Wer die Debatte auch nur hal...   \n",
       "\n",
       "                                                user  \\\n",
       "0  {'id': 728326774027919360, 'id_str': '72832677...   \n",
       "1  {'id': 1222045254, 'id_str': '1222045254', 'na...   \n",
       "2  {'id': 2443895924, 'id_str': '2443895924', 'na...   \n",
       "3  {'id': 12302322, 'id_str': '12302322', 'name':...   \n",
       "4  {'id': 391983270, 'id_str': '391983270', 'name...   \n",
       "\n",
       "                                            entities         tags  \n",
       "0  {'hashtags': [{'text': 'Ehefueralle', 'indices...  ehefueralle  \n",
       "1  {'hashtags': [{'text': 'Ehefueralle', 'indices...  ehefueralle  \n",
       "2  {'hashtags': [{'text': 'ehefueralle', 'indices...  ehefueralle  \n",
       "3  {'hashtags': [{'text': 'Ehefueralle', 'indices...  ehefueralle  \n",
       "4  {'hashtags': [{'text': 'Ehefueralle', 'indices...  ehefueralle  "
      ]
     },
     "execution_count": 2,
     "metadata": {},
     "output_type": "execute_result"
    }
   ],
   "source": [
    "# read lda_tweets\n",
    "df = pd.read_csv('../../data/BTW17_Twitter/lda/lda_tweets.csv')\n",
    "df.drop(columns='Unnamed: 0', axis=1, inplace=True)\n",
    "df.head()"
   ]
  },
  {
   "cell_type": "code",
   "execution_count": 3,
   "metadata": {},
   "outputs": [
    {
     "data": {
      "application/vnd.jupyter.widget-view+json": {
       "model_id": "0164cd36c4ab4328b753c415b59991d9",
       "version_major": 2,
       "version_minor": 0
      },
      "text/plain": [
       "HBox(children=(FloatProgress(value=0.0, max=28899.0), HTML(value='')))"
      ]
     },
     "metadata": {},
     "output_type": "display_data"
    },
    {
     "name": "stdout",
     "output_type": "stream",
     "text": [
      "\n"
     ]
    }
   ],
   "source": [
    "tqdm.pandas()\n",
    "\n",
    "accepted_pos = ['NOUN', 'PROPN', 'ADJ', 'ADV', 'VERB']\n",
    "\n",
    "# nlp pipeline for text\n",
    "df['tokens'] = df['text'].progress_apply(lambda x: [token.lemma_ for token in nlp(x) if token.pos_ in accepted_pos])\n",
    "       \n",
    "# stopword removal\n",
    "df['tokens'] = df['tokens'].apply(lambda x: [item for item in x if item not in stopwords])\n",
    "\n",
    "# remove short words\n",
    "df['tokens'] = df['tokens'].apply(lambda x: [word for word in x if len(word) >= 3])\n",
    "\n",
    "# lower all strings\n",
    "df['tokens'] = df['tokens'].apply(lambda x: [word.lower() for word in x])"
   ]
  },
  {
   "cell_type": "code",
   "execution_count": 4,
   "metadata": {},
   "outputs": [
    {
     "name": "stdout",
     "output_type": "stream",
     "text": [
      "original document: \n",
      "['RT', '@Junge_Freiheit:', 'AfD-Vize', 'Beatrix', 'von', 'Storch', 'zur', '#Ehefueralle:', 'Merkel', 'hat', 'rechten', 'Flügel', 'der', 'CDU', 'fast', 'widerstandslos', 'ausradiert', 'https://…']\n",
      "\n",
      "\n",
      "tokenized and lemmatized document: \n",
      "['afd-vize', 'beatrix', 'storch', 'ehefueralle', 'merkel', 'recht', 'flügel', 'cdu', 'fast', 'widerstandslos', 'ausradieren']\n"
     ]
    }
   ],
   "source": [
    "print('original document: ')\n",
    "words = []\n",
    "for word in df['text'][0].split(' '):\n",
    "    words.append(word)\n",
    "print(words)\n",
    "print('\\n\\ntokenized and lemmatized document: ')\n",
    "print(df['tokens'][0])"
   ]
  },
  {
   "cell_type": "code",
   "execution_count": 12,
   "metadata": {},
   "outputs": [
    {
     "data": {
      "text/plain": [
       "'0.099*\"ehefueralle\" + 0.018*\"@volker_beck\" + 0.012*\"@beatrix_vstorch\" + 0.011*\"merkel\" + 0.011*\"offen\" + 0.011*\"abstimmung\" + 0.011*\"freitag\" + 0.010*\"marx\" + 0.010*\"@die_gruenen\" + 0.010*\"kardinal\"'"
      ]
     },
     "execution_count": 12,
     "metadata": {},
     "output_type": "execute_result"
    }
   ],
   "source": [
    "x[0][1]"
   ]
  },
  {
   "cell_type": "code",
   "execution_count": 30,
   "metadata": {},
   "outputs": [
    {
     "ename": "IndexError",
     "evalue": "list index out of range",
     "output_type": "error",
     "traceback": [
      "\u001b[1;31m---------------------------------------------------------------------------\u001b[0m",
      "\u001b[1;31mIndexError\u001b[0m                                Traceback (most recent call last)",
      "\u001b[1;32m<ipython-input-30-6ffec95b581f>\u001b[0m in \u001b[0;36m<module>\u001b[1;34m\u001b[0m\n\u001b[1;32m----> 1\u001b[1;33m \u001b[0mx\u001b[0m\u001b[1;33m[\u001b[0m\u001b[1;36m0\u001b[0m\u001b[1;33m]\u001b[0m\u001b[1;33m[\u001b[0m\u001b[1;36m1\u001b[0m\u001b[1;33m]\u001b[0m\u001b[1;33m.\u001b[0m\u001b[0msplit\u001b[0m\u001b[1;33m(\u001b[0m\u001b[1;34m'*'\u001b[0m\u001b[1;33m)\u001b[0m\u001b[1;33m[\u001b[0m\u001b[1;36m10\u001b[0m\u001b[1;33m]\u001b[0m\u001b[1;33m.\u001b[0m\u001b[0msplit\u001b[0m\u001b[1;33m(\u001b[0m\u001b[1;34m'+ '\u001b[0m\u001b[1;33m)\u001b[0m\u001b[1;33m[\u001b[0m\u001b[1;36m1\u001b[0m\u001b[1;33m]\u001b[0m\u001b[1;33m\u001b[0m\u001b[1;33m\u001b[0m\u001b[0m\n\u001b[0m",
      "\u001b[1;31mIndexError\u001b[0m: list index out of range"
     ]
    }
   ],
   "source": [
    "x[0][1].split('*')[10].split('+ ')[1]"
   ]
  },
  {
   "cell_type": "code",
   "execution_count": 34,
   "metadata": {},
   "outputs": [
    {
     "data": {
      "text/plain": [
       "range(0, 3)"
      ]
     },
     "execution_count": 34,
     "metadata": {},
     "output_type": "execute_result"
    }
   ],
   "source": [
    "range(len([1,2,3]))"
   ]
  },
  {
   "cell_type": "code",
   "execution_count": 38,
   "metadata": {
    "scrolled": true
   },
   "outputs": [
    {
     "data": {
      "application/vnd.jupyter.widget-view+json": {
       "model_id": "f1153fffc9b74a09b00bf7509d875c71",
       "version_major": 2,
       "version_minor": 0
      },
      "text/plain": [
       "HBox(children=(FloatProgress(value=0.0, max=145.0), HTML(value='')))"
      ]
     },
     "metadata": {},
     "output_type": "display_data"
    },
    {
     "name": "stdout",
     "output_type": "stream",
     "text": [
      "\n"
     ]
    }
   ],
   "source": [
    "hashtag_list = df['tags'].unique().tolist()\n",
    "topic_word_list = []\n",
    "scores_list = []\n",
    "\n",
    "for index in tqdm(range(len(hashtag_list))):\n",
    "    hashtag = hashtag_list[index]\n",
    "    \n",
    "    # filter df\n",
    "    temp_df = df[df['tags']==hashtag]\n",
    "    \n",
    "    # get dictionary\n",
    "    dictionary = gensim.corpora.Dictionary(temp_df['tokens'])\n",
    "        \n",
    "    # get bag of words corpus\n",
    "    bow_corpus = [dictionary.doc2bow(doc) for doc in temp_df['tokens']]\n",
    "    \n",
    "    # lda_model\n",
    "    lda_model = gensim.models.LdaMulticore(bow_corpus, num_topics=1, id2word=dictionary, passes=2, workers=2)\n",
    "    \n",
    "    # get words and scores\n",
    "    x = lda_model.show_topics()\n",
    "    topic_words = []\n",
    "    scores = []\n",
    "    y = x[0][1].split('\"')\n",
    "    z = x[0][1].split('*')\n",
    "    for i in range(len(y)):\n",
    "        if i%2 != 0:\n",
    "            topic_words.append(y[i])    \n",
    "    for i in range(len(z)):\n",
    "        if i == 0:\n",
    "            scores.append(z[i])\n",
    "        elif i != max(range(len(z))):\n",
    "            scores.append(z[i].split('+ ')[1])         \n",
    "    \n",
    "    topic_word_list.append(topic_words)\n",
    "    scores_list.append(scores)\n",
    "    \n",
    "# save hashtag and words to output df \n",
    "output_df = pd.DataFrame({'hashtag': hashtag_list, 'topic_words': topic_word_list, 'scores': scores_list})"
   ]
  },
  {
   "cell_type": "code",
   "execution_count": 39,
   "metadata": {},
   "outputs": [
    {
     "data": {
      "text/html": [
       "<div>\n",
       "<style scoped>\n",
       "    .dataframe tbody tr th:only-of-type {\n",
       "        vertical-align: middle;\n",
       "    }\n",
       "\n",
       "    .dataframe tbody tr th {\n",
       "        vertical-align: top;\n",
       "    }\n",
       "\n",
       "    .dataframe thead th {\n",
       "        text-align: right;\n",
       "    }\n",
       "</style>\n",
       "<table border=\"1\" class=\"dataframe\">\n",
       "  <thead>\n",
       "    <tr style=\"text-align: right;\">\n",
       "      <th></th>\n",
       "      <th>hashtag</th>\n",
       "      <th>topic_words</th>\n",
       "      <th>scores</th>\n",
       "    </tr>\n",
       "  </thead>\n",
       "  <tbody>\n",
       "    <tr>\n",
       "      <th>0</th>\n",
       "      <td>ehefueralle</td>\n",
       "      <td>[ehefueralle, @volker_beck, @beatrix_vstorch, ...</td>\n",
       "      <td>[0.099, 0.018, 0.012, 0.011, 0.011, 0.011, 0.0...</td>\n",
       "    </tr>\n",
       "    <tr>\n",
       "      <th>1</th>\n",
       "      <td>gesundheit</td>\n",
       "      <td>[gesundheit, pflege, prekär, dossier, neues, u...</td>\n",
       "      <td>[0.107, 0.043, 0.039, 0.039, 0.039, 0.039, 0.0...</td>\n",
       "    </tr>\n",
       "    <tr>\n",
       "      <th>2</th>\n",
       "      <td>afd</td>\n",
       "      <td>[afd, traudichdeutschland, @afd, @joerg_meuthe...</td>\n",
       "      <td>[0.103, 0.059, 0.027, 0.023, 0.018, 0.009, 0.0...</td>\n",
       "    </tr>\n",
       "    <tr>\n",
       "      <th>3</th>\n",
       "      <td>btw17</td>\n",
       "      <td>[btw17, afd, @afd, wählen, traudichdeutschland...</td>\n",
       "      <td>[0.082, 0.038, 0.027, 0.023, 0.020, 0.012, 0.0...</td>\n",
       "    </tr>\n",
       "    <tr>\n",
       "      <th>4</th>\n",
       "      <td>btw2017</td>\n",
       "      <td>[btw2017, traudichdeutschland, @fraukepetry, k...</td>\n",
       "      <td>[0.077, 0.057, 0.031, 0.030, 0.029, 0.028, 0.0...</td>\n",
       "    </tr>\n",
       "  </tbody>\n",
       "</table>\n",
       "</div>"
      ],
      "text/plain": [
       "       hashtag                                        topic_words  \\\n",
       "0  ehefueralle  [ehefueralle, @volker_beck, @beatrix_vstorch, ...   \n",
       "1   gesundheit  [gesundheit, pflege, prekär, dossier, neues, u...   \n",
       "2          afd  [afd, traudichdeutschland, @afd, @joerg_meuthe...   \n",
       "3        btw17  [btw17, afd, @afd, wählen, traudichdeutschland...   \n",
       "4      btw2017  [btw2017, traudichdeutschland, @fraukepetry, k...   \n",
       "\n",
       "                                              scores  \n",
       "0  [0.099, 0.018, 0.012, 0.011, 0.011, 0.011, 0.0...  \n",
       "1  [0.107, 0.043, 0.039, 0.039, 0.039, 0.039, 0.0...  \n",
       "2  [0.103, 0.059, 0.027, 0.023, 0.018, 0.009, 0.0...  \n",
       "3  [0.082, 0.038, 0.027, 0.023, 0.020, 0.012, 0.0...  \n",
       "4  [0.077, 0.057, 0.031, 0.030, 0.029, 0.028, 0.0...  "
      ]
     },
     "execution_count": 39,
     "metadata": {},
     "output_type": "execute_result"
    }
   ],
   "source": [
    "output_df.head()"
   ]
  },
  {
   "cell_type": "code",
   "execution_count": 40,
   "metadata": {},
   "outputs": [],
   "source": [
    "# save to csv\n",
    "path_file = '../../data/BTW17_Twitter/lda/topics.csv'\n",
    "output_df.to_csv(path_file)"
   ]
  }
 ],
 "metadata": {
  "kernelspec": {
   "display_name": "Python 3",
   "language": "python",
   "name": "python3"
  },
  "language_info": {
   "codemirror_mode": {
    "name": "ipython",
    "version": 3
   },
   "file_extension": ".py",
   "mimetype": "text/x-python",
   "name": "python",
   "nbconvert_exporter": "python",
   "pygments_lexer": "ipython3",
   "version": "3.7.6"
  }
 },
 "nbformat": 4,
 "nbformat_minor": 4
}
