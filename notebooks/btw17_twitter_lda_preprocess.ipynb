{
 "cells": [
  {
   "cell_type": "code",
   "execution_count": 1,
   "metadata": {},
   "outputs": [],
   "source": [
    "import pandas as pd\n",
    "import warnings\n",
    "warnings.filterwarnings('ignore')\n",
    "import sys\n",
    "sys.path.append('../scripts/')\n",
    "from lda_preprocessing import mark_peaks, retrieve_peak_dates, nlp_pipeline\n",
    "from twitter import filter_tweets, get_text, get_hashtags\n",
    "import re\n",
    "from tqdm.notebook import tqdm\n",
    "import glob"
   ]
  },
  {
   "cell_type": "code",
   "execution_count": 2,
   "metadata": {},
   "outputs": [],
   "source": [
    "# get data\n",
    "hashtag_df = pd.read_json('../../data/BTW17_Twitter/hashtags/hashtag_counts.json')\n",
    "peak_df = pd.read_json('../../data/BTW17_Twitter/peaks/peaks.json')"
   ]
  },
  {
   "cell_type": "code",
   "execution_count": 3,
   "metadata": {},
   "outputs": [
    {
     "data": {
      "application/vnd.jupyter.widget-view+json": {
       "model_id": "63a755012be143e0a19fbc37ce506d5b",
       "version_major": 2,
       "version_minor": 0
      },
      "text/plain": [
       "  0%|          | 0/30596 [00:00<?, ?it/s]"
      ]
     },
     "metadata": {},
     "output_type": "display_data"
    },
    {
     "data": {
      "text/html": [
       "<div>\n",
       "<style scoped>\n",
       "    .dataframe tbody tr th:only-of-type {\n",
       "        vertical-align: middle;\n",
       "    }\n",
       "\n",
       "    .dataframe tbody tr th {\n",
       "        vertical-align: top;\n",
       "    }\n",
       "\n",
       "    .dataframe thead th {\n",
       "        text-align: right;\n",
       "    }\n",
       "</style>\n",
       "<table border=\"1\" class=\"dataframe\">\n",
       "  <thead>\n",
       "    <tr style=\"text-align: right;\">\n",
       "      <th></th>\n",
       "      <th>count</th>\n",
       "      <th>unique</th>\n",
       "      <th>top</th>\n",
       "      <th>freq</th>\n",
       "      <th>first</th>\n",
       "      <th>last</th>\n",
       "      <th>mean</th>\n",
       "      <th>std</th>\n",
       "      <th>min</th>\n",
       "      <th>25%</th>\n",
       "      <th>50%</th>\n",
       "      <th>75%</th>\n",
       "      <th>max</th>\n",
       "    </tr>\n",
       "  </thead>\n",
       "  <tbody>\n",
       "    <tr>\n",
       "      <th>index</th>\n",
       "      <td>99170.0</td>\n",
       "      <td>NaN</td>\n",
       "      <td>NaN</td>\n",
       "      <td>NaN</td>\n",
       "      <td>NaT</td>\n",
       "      <td>NaT</td>\n",
       "      <td>49584.5</td>\n",
       "      <td>28628.057435</td>\n",
       "      <td>0.0</td>\n",
       "      <td>24792.25</td>\n",
       "      <td>49584.5</td>\n",
       "      <td>74376.75</td>\n",
       "      <td>99169.0</td>\n",
       "    </tr>\n",
       "    <tr>\n",
       "      <th>date</th>\n",
       "      <td>99170</td>\n",
       "      <td>120</td>\n",
       "      <td>2017-09-24 00:00:00</td>\n",
       "      <td>1386</td>\n",
       "      <td>2017-05-29</td>\n",
       "      <td>2017-09-25</td>\n",
       "      <td>NaN</td>\n",
       "      <td>NaN</td>\n",
       "      <td>NaN</td>\n",
       "      <td>NaN</td>\n",
       "      <td>NaN</td>\n",
       "      <td>NaN</td>\n",
       "      <td>NaN</td>\n",
       "    </tr>\n",
       "    <tr>\n",
       "      <th>hashtag</th>\n",
       "      <td>99170</td>\n",
       "      <td>30596</td>\n",
       "      <td>berlin</td>\n",
       "      <td>120</td>\n",
       "      <td>NaT</td>\n",
       "      <td>NaT</td>\n",
       "      <td>NaN</td>\n",
       "      <td>NaN</td>\n",
       "      <td>NaN</td>\n",
       "      <td>NaN</td>\n",
       "      <td>NaN</td>\n",
       "      <td>NaN</td>\n",
       "      <td>NaN</td>\n",
       "    </tr>\n",
       "    <tr>\n",
       "      <th>count</th>\n",
       "      <td>99170.0</td>\n",
       "      <td>NaN</td>\n",
       "      <td>NaN</td>\n",
       "      <td>NaN</td>\n",
       "      <td>NaT</td>\n",
       "      <td>NaT</td>\n",
       "      <td>10.305304</td>\n",
       "      <td>84.493636</td>\n",
       "      <td>1.0</td>\n",
       "      <td>1.0</td>\n",
       "      <td>1.0</td>\n",
       "      <td>4.0</td>\n",
       "      <td>9412.0</td>\n",
       "    </tr>\n",
       "    <tr>\n",
       "      <th>peak</th>\n",
       "      <td>99170.0</td>\n",
       "      <td>NaN</td>\n",
       "      <td>NaN</td>\n",
       "      <td>NaN</td>\n",
       "      <td>NaT</td>\n",
       "      <td>NaT</td>\n",
       "      <td>0.009307</td>\n",
       "      <td>0.096025</td>\n",
       "      <td>0.0</td>\n",
       "      <td>0.0</td>\n",
       "      <td>0.0</td>\n",
       "      <td>0.0</td>\n",
       "      <td>1.0</td>\n",
       "    </tr>\n",
       "  </tbody>\n",
       "</table>\n",
       "</div>"
      ],
      "text/plain": [
       "           count unique                  top  freq      first       last  \\\n",
       "index    99170.0    NaN                  NaN   NaN        NaT        NaT   \n",
       "date       99170    120  2017-09-24 00:00:00  1386 2017-05-29 2017-09-25   \n",
       "hashtag    99170  30596               berlin   120        NaT        NaT   \n",
       "count    99170.0    NaN                  NaN   NaN        NaT        NaT   \n",
       "peak     99170.0    NaN                  NaN   NaN        NaT        NaT   \n",
       "\n",
       "              mean           std  min       25%      50%       75%      max  \n",
       "index      49584.5  28628.057435  0.0  24792.25  49584.5  74376.75  99169.0  \n",
       "date           NaN           NaN  NaN       NaN      NaN       NaN      NaN  \n",
       "hashtag        NaN           NaN  NaN       NaN      NaN       NaN      NaN  \n",
       "count    10.305304     84.493636  1.0       1.0      1.0       4.0   9412.0  \n",
       "peak      0.009307      0.096025  0.0       0.0      0.0       0.0      1.0  "
      ]
     },
     "execution_count": 3,
     "metadata": {},
     "output_type": "execute_result"
    }
   ],
   "source": [
    "df = mark_peaks(hashtag_df, peak_df)\n",
    "df.describe(include='all').T"
   ]
  },
  {
   "cell_type": "code",
   "execution_count": 4,
   "metadata": {},
   "outputs": [
    {
     "data": {
      "application/vnd.jupyter.widget-view+json": {
       "model_id": "facfcfeef20b49eb8120b730bb1effdd",
       "version_major": 2,
       "version_minor": 0
      },
      "text/plain": [
       "  0%|          | 0/30596 [00:00<?, ?it/s]"
      ]
     },
     "metadata": {},
     "output_type": "display_data"
    },
    {
     "data": {
      "text/html": [
       "<div>\n",
       "<style scoped>\n",
       "    .dataframe tbody tr th:only-of-type {\n",
       "        vertical-align: middle;\n",
       "    }\n",
       "\n",
       "    .dataframe tbody tr th {\n",
       "        vertical-align: top;\n",
       "    }\n",
       "\n",
       "    .dataframe thead th {\n",
       "        text-align: right;\n",
       "    }\n",
       "</style>\n",
       "<table border=\"1\" class=\"dataframe\">\n",
       "  <thead>\n",
       "    <tr style=\"text-align: right;\">\n",
       "      <th></th>\n",
       "      <th>count</th>\n",
       "      <th>unique</th>\n",
       "      <th>top</th>\n",
       "      <th>freq</th>\n",
       "      <th>mean</th>\n",
       "      <th>std</th>\n",
       "      <th>min</th>\n",
       "      <th>25%</th>\n",
       "      <th>50%</th>\n",
       "      <th>75%</th>\n",
       "      <th>max</th>\n",
       "    </tr>\n",
       "  </thead>\n",
       "  <tbody>\n",
       "    <tr>\n",
       "      <th>index</th>\n",
       "      <td>162.0</td>\n",
       "      <td>NaN</td>\n",
       "      <td>NaN</td>\n",
       "      <td>NaN</td>\n",
       "      <td>1244.006173</td>\n",
       "      <td>2017.581307</td>\n",
       "      <td>9.0</td>\n",
       "      <td>237.25</td>\n",
       "      <td>492.0</td>\n",
       "      <td>1570.75</td>\n",
       "      <td>15246.0</td>\n",
       "    </tr>\n",
       "    <tr>\n",
       "      <th>hashtag</th>\n",
       "      <td>162</td>\n",
       "      <td>162</td>\n",
       "      <td>antifa</td>\n",
       "      <td>1</td>\n",
       "      <td>NaN</td>\n",
       "      <td>NaN</td>\n",
       "      <td>NaN</td>\n",
       "      <td>NaN</td>\n",
       "      <td>NaN</td>\n",
       "      <td>NaN</td>\n",
       "      <td>NaN</td>\n",
       "    </tr>\n",
       "    <tr>\n",
       "      <th>lda_dates</th>\n",
       "      <td>162</td>\n",
       "      <td>162</td>\n",
       "      <td>[2017-06-05, 2017-06-06, 2017-06-07, 2017-06-0...</td>\n",
       "      <td>1</td>\n",
       "      <td>NaN</td>\n",
       "      <td>NaN</td>\n",
       "      <td>NaN</td>\n",
       "      <td>NaN</td>\n",
       "      <td>NaN</td>\n",
       "      <td>NaN</td>\n",
       "      <td>NaN</td>\n",
       "    </tr>\n",
       "  </tbody>\n",
       "</table>\n",
       "</div>"
      ],
      "text/plain": [
       "           count unique                                                top  \\\n",
       "index      162.0    NaN                                                NaN   \n",
       "hashtag      162    162                                             antifa   \n",
       "lda_dates    162    162  [2017-06-05, 2017-06-06, 2017-06-07, 2017-06-0...   \n",
       "\n",
       "          freq         mean          std  min     25%    50%      75%      max  \n",
       "index      NaN  1244.006173  2017.581307  9.0  237.25  492.0  1570.75  15246.0  \n",
       "hashtag      1          NaN          NaN  NaN     NaN    NaN      NaN      NaN  \n",
       "lda_dates    1          NaN          NaN  NaN     NaN    NaN      NaN      NaN  "
      ]
     },
     "execution_count": 4,
     "metadata": {},
     "output_type": "execute_result"
    }
   ],
   "source": [
    "dates_df = retrieve_peak_dates(hashtag_df, df)\n",
    "dates_df = dates_df[dates_df['lda_dates'].str.len()!=0].reset_index()\n",
    "dates_df.describe(include='all').T"
   ]
  },
  {
   "cell_type": "code",
   "execution_count": 5,
   "metadata": {},
   "outputs": [],
   "source": [
    "# save to json\n",
    "dates_df.to_json('../../data/BTW17_Twitter/peaks/peak_dates.json')"
   ]
  },
  {
   "cell_type": "code",
   "execution_count": 11,
   "metadata": {},
   "outputs": [
    {
     "name": "stdout",
     "output_type": "stream",
     "text": [
      "The autoreload extension is already loaded. To reload it, use:\n",
      "  %reload_ext autoreload\n"
     ]
    }
   ],
   "source": [
    "%load_ext autoreload\n",
    "%autoreload 2\n",
    "from twitter import filter_tweets"
   ]
  },
  {
   "cell_type": "code",
   "execution_count": 12,
   "metadata": {},
   "outputs": [
    {
     "data": {
      "application/vnd.jupyter.widget-view+json": {
       "model_id": "6660e97a10124524a83ff805e89b3759",
       "version_major": 2,
       "version_minor": 0
      },
      "text/plain": [
       "  0%|          | 0/1308 [00:00<?, ?it/s]"
      ]
     },
     "metadata": {},
     "output_type": "display_data"
    }
   ],
   "source": [
    "# set to *.json to load all\n",
    "path_to_json = '../../data/BTW17_Twitter/tweets/*.json'\n",
    "file_list = glob.glob(path_to_json)\n",
    "lda_tweets = filter_tweets(file_list, dates_df)"
   ]
  },
  {
   "cell_type": "code",
   "execution_count": 18,
   "metadata": {},
   "outputs": [
    {
     "data": {
      "text/html": [
       "<div>\n",
       "<style scoped>\n",
       "    .dataframe tbody tr th:only-of-type {\n",
       "        vertical-align: middle;\n",
       "    }\n",
       "\n",
       "    .dataframe tbody tr th {\n",
       "        vertical-align: top;\n",
       "    }\n",
       "\n",
       "    .dataframe thead th {\n",
       "        text-align: right;\n",
       "    }\n",
       "</style>\n",
       "<table border=\"1\" class=\"dataframe\">\n",
       "  <thead>\n",
       "    <tr style=\"text-align: right;\">\n",
       "      <th></th>\n",
       "      <th>created_at</th>\n",
       "      <th>text</th>\n",
       "      <th>user</th>\n",
       "      <th>extended_tweet</th>\n",
       "      <th>retweeted_status</th>\n",
       "      <th>tags</th>\n",
       "    </tr>\n",
       "  </thead>\n",
       "  <tbody>\n",
       "    <tr>\n",
       "      <th>0</th>\n",
       "      <td>2017-08-02</td>\n",
       "      <td>RT @AfD_Bund: 6️⃣5️⃣.0️⃣0️⃣0️⃣ Follower auf #T...</td>\n",
       "      <td>{'id': 738771661915344897, 'id_str': '73877166...</td>\n",
       "      <td>NaN</td>\n",
       "      <td>{'created_at': 'Wed Aug 02 21:28:47 +0000 2017...</td>\n",
       "      <td>btw17</td>\n",
       "    </tr>\n",
       "    <tr>\n",
       "      <th>1</th>\n",
       "      <td>2017-08-02</td>\n",
       "      <td>RT @FraukePetry: #OSZE nimmt Sorge der #AfD er...</td>\n",
       "      <td>{'id': 855324133, 'id_str': '855324133', 'name...</td>\n",
       "      <td>NaN</td>\n",
       "      <td>{'created_at': 'Wed Aug 02 11:37:33 +0000 2017...</td>\n",
       "      <td>btw17</td>\n",
       "    </tr>\n",
       "    <tr>\n",
       "      <th>2</th>\n",
       "      <td>2017-08-02</td>\n",
       "      <td>RT @AfD_Bund: 6️⃣5️⃣.0️⃣0️⃣0️⃣ Follower auf #T...</td>\n",
       "      <td>{'id': 1305881724, 'id_str': '1305881724', 'na...</td>\n",
       "      <td>NaN</td>\n",
       "      <td>{'created_at': 'Wed Aug 02 21:28:47 +0000 2017...</td>\n",
       "      <td>btw17</td>\n",
       "    </tr>\n",
       "  </tbody>\n",
       "</table>\n",
       "</div>"
      ],
      "text/plain": [
       "   created_at                                               text  \\\n",
       "0  2017-08-02  RT @AfD_Bund: 6️⃣5️⃣.0️⃣0️⃣0️⃣ Follower auf #T...   \n",
       "1  2017-08-02  RT @FraukePetry: #OSZE nimmt Sorge der #AfD er...   \n",
       "2  2017-08-02  RT @AfD_Bund: 6️⃣5️⃣.0️⃣0️⃣0️⃣ Follower auf #T...   \n",
       "\n",
       "                                                user extended_tweet  \\\n",
       "0  {'id': 738771661915344897, 'id_str': '73877166...            NaN   \n",
       "1  {'id': 855324133, 'id_str': '855324133', 'name...            NaN   \n",
       "2  {'id': 1305881724, 'id_str': '1305881724', 'na...            NaN   \n",
       "\n",
       "                                    retweeted_status   tags  \n",
       "0  {'created_at': 'Wed Aug 02 21:28:47 +0000 2017...  btw17  \n",
       "1  {'created_at': 'Wed Aug 02 11:37:33 +0000 2017...  btw17  \n",
       "2  {'created_at': 'Wed Aug 02 21:28:47 +0000 2017...  btw17  "
      ]
     },
     "execution_count": 18,
     "metadata": {},
     "output_type": "execute_result"
    }
   ],
   "source": [
    "# save to json\n",
    "lda_tweets.to_json('../../data/BTW17_Twitter/lda/lda_tweets.json')\n",
    "lda_tweets.head(3)"
   ]
  },
  {
   "cell_type": "code",
   "execution_count": 20,
   "metadata": {},
   "outputs": [
    {
     "data": {
      "text/html": [
       "<div>\n",
       "<style scoped>\n",
       "    .dataframe tbody tr th:only-of-type {\n",
       "        vertical-align: middle;\n",
       "    }\n",
       "\n",
       "    .dataframe tbody tr th {\n",
       "        vertical-align: top;\n",
       "    }\n",
       "\n",
       "    .dataframe thead th {\n",
       "        text-align: right;\n",
       "    }\n",
       "</style>\n",
       "<table border=\"1\" class=\"dataframe\">\n",
       "  <thead>\n",
       "    <tr style=\"text-align: right;\">\n",
       "      <th></th>\n",
       "      <th>created_at</th>\n",
       "      <th>text</th>\n",
       "      <th>user</th>\n",
       "      <th>extended_tweet</th>\n",
       "      <th>retweeted_status</th>\n",
       "      <th>tags</th>\n",
       "    </tr>\n",
       "  </thead>\n",
       "  <tbody>\n",
       "    <tr>\n",
       "      <th>25438</th>\n",
       "      <td>2017-05-29</td>\n",
       "      <td>RT @GrueneBundestag: Die #Mietpreisbremse brem...</td>\n",
       "      <td>{'id': 236737207, 'id_str': '236737207', 'name...</td>\n",
       "      <td></td>\n",
       "      <td>{'created_at': 'Mon May 29 08:07:05 +0000 2017...</td>\n",
       "      <td>mietpreisbremse</td>\n",
       "    </tr>\n",
       "    <tr>\n",
       "      <th>91140</th>\n",
       "      <td>2017-07-16</td>\n",
       "      <td>RT @Eckleben: #Rentner in #Berlin glücklich + ...</td>\n",
       "      <td>{'id': 3610063162, 'id_str': '3610063162', 'na...</td>\n",
       "      <td></td>\n",
       "      <td>{'created_at': 'Sat Jul 15 17:12:15 +0000 2017...</td>\n",
       "      <td>berlin</td>\n",
       "    </tr>\n",
       "    <tr>\n",
       "      <th>117607</th>\n",
       "      <td>2017-06-17</td>\n",
       "      <td>RT @Joerg_Meuthen: Die sogenannten \"#Grünen“ s...</td>\n",
       "      <td>{'id': 2817555377, 'id_str': '2817555377', 'na...</td>\n",
       "      <td></td>\n",
       "      <td>{'created_at': 'Sun Jun 11 12:45:53 +0000 2017...</td>\n",
       "      <td>grünen</td>\n",
       "    </tr>\n",
       "    <tr>\n",
       "      <th>117608</th>\n",
       "      <td>2017-06-17</td>\n",
       "      <td>RT @AfD_Bund: Dr. Alexander #Gauland:\\n»Richti...</td>\n",
       "      <td>{'id': 867849125009645568, 'id_str': '86784912...</td>\n",
       "      <td></td>\n",
       "      <td>{'created_at': 'Thu Jun 15 15:39:07 +0000 2017...</td>\n",
       "      <td>gauland</td>\n",
       "    </tr>\n",
       "    <tr>\n",
       "      <th>117609</th>\n",
       "      <td>2017-06-17</td>\n",
       "      <td>RT @AfD_Bund: Das #BAMF (Bundesamt für Migrati...</td>\n",
       "      <td>{'id': 749574693636730880, 'id_str': '74957469...</td>\n",
       "      <td></td>\n",
       "      <td>{'created_at': 'Fri Jun 16 12:27:23 +0000 2017...</td>\n",
       "      <td>heimat</td>\n",
       "    </tr>\n",
       "  </tbody>\n",
       "</table>\n",
       "</div>"
      ],
      "text/plain": [
       "        created_at                                               text  \\\n",
       "25438   2017-05-29  RT @GrueneBundestag: Die #Mietpreisbremse brem...   \n",
       "91140   2017-07-16  RT @Eckleben: #Rentner in #Berlin glücklich + ...   \n",
       "117607  2017-06-17  RT @Joerg_Meuthen: Die sogenannten \"#Grünen“ s...   \n",
       "117608  2017-06-17  RT @AfD_Bund: Dr. Alexander #Gauland:\\n»Richti...   \n",
       "117609  2017-06-17  RT @AfD_Bund: Das #BAMF (Bundesamt für Migrati...   \n",
       "\n",
       "                                                     user extended_tweet  \\\n",
       "25438   {'id': 236737207, 'id_str': '236737207', 'name...                  \n",
       "91140   {'id': 3610063162, 'id_str': '3610063162', 'na...                  \n",
       "117607  {'id': 2817555377, 'id_str': '2817555377', 'na...                  \n",
       "117608  {'id': 867849125009645568, 'id_str': '86784912...                  \n",
       "117609  {'id': 749574693636730880, 'id_str': '74957469...                  \n",
       "\n",
       "                                         retweeted_status             tags  \n",
       "25438   {'created_at': 'Mon May 29 08:07:05 +0000 2017...  mietpreisbremse  \n",
       "91140   {'created_at': 'Sat Jul 15 17:12:15 +0000 2017...           berlin  \n",
       "117607  {'created_at': 'Sun Jun 11 12:45:53 +0000 2017...           grünen  \n",
       "117608  {'created_at': 'Thu Jun 15 15:39:07 +0000 2017...          gauland  \n",
       "117609  {'created_at': 'Fri Jun 16 12:27:23 +0000 2017...           heimat  "
      ]
     },
     "execution_count": 20,
     "metadata": {},
     "output_type": "execute_result"
    }
   ],
   "source": [
    "lda_tweets[lda_tweets['extended_tweet']=='']"
   ]
  },
  {
   "cell_type": "code",
   "execution_count": 21,
   "metadata": {},
   "outputs": [],
   "source": [
    "# get full tweets text\n",
    "lda_tweets['retweeted_status'].fillna(0, inplace=True)\n",
    "lda_tweets['extended_tweet'].replace(to_replace='', value=0, inplace=True)\n",
    "lda_tweets['extended_tweet'].fillna(0, inplace=True)\n",
    "lda_tweets['full_text'] = lda_tweets.apply(lambda x: get_text(x['extended_tweet'], x['retweeted_status'], x['text']), axis=1)\n",
    "\n",
    "# remove mentions\n",
    "lda_tweets['full_text_processed'] = lda_tweets['full_text'].apply(lambda x: re.sub('@[A-Za-z0-9_]+','', x))\n",
    "\n",
    "# remove numbers\n",
    "lda_tweets['full_text_processed'] = lda_tweets['full_text_processed'].apply(lambda x: re.sub('[0-9]', '', x))"
   ]
  },
  {
   "cell_type": "code",
   "execution_count": 36,
   "metadata": {},
   "outputs": [
    {
     "data": {
      "application/vnd.jupyter.widget-view+json": {
       "model_id": "831567cc92544f2db2db1d26340708cb",
       "version_major": 2,
       "version_minor": 0
      },
      "text/plain": [
       "  0%|          | 0/284895 [00:00<?, ?it/s]"
      ]
     },
     "metadata": {},
     "output_type": "display_data"
    }
   ],
   "source": [
    "# preprocess tokens\n",
    "tokens = []\n",
    "tweet_list = lda_tweets['full_text_processed'].tolist()\n",
    "for i in tqdm(range(len(lda_tweets))):\n",
    "    tokens.append(nlp_pipeline(tweet_list[i]))"
   ]
  },
  {
   "cell_type": "code",
   "execution_count": 37,
   "metadata": {},
   "outputs": [
    {
     "data": {
      "text/html": [
       "<div>\n",
       "<style scoped>\n",
       "    .dataframe tbody tr th:only-of-type {\n",
       "        vertical-align: middle;\n",
       "    }\n",
       "\n",
       "    .dataframe tbody tr th {\n",
       "        vertical-align: top;\n",
       "    }\n",
       "\n",
       "    .dataframe thead th {\n",
       "        text-align: right;\n",
       "    }\n",
       "</style>\n",
       "<table border=\"1\" class=\"dataframe\">\n",
       "  <thead>\n",
       "    <tr style=\"text-align: right;\">\n",
       "      <th></th>\n",
       "      <th>created_at</th>\n",
       "      <th>text</th>\n",
       "      <th>user</th>\n",
       "      <th>extended_tweet</th>\n",
       "      <th>retweeted_status</th>\n",
       "      <th>tags</th>\n",
       "      <th>full_text</th>\n",
       "      <th>full_text_processed</th>\n",
       "      <th>tokens</th>\n",
       "    </tr>\n",
       "  </thead>\n",
       "  <tbody>\n",
       "    <tr>\n",
       "      <th>0</th>\n",
       "      <td>2017-08-02</td>\n",
       "      <td>RT @AfD_Bund: 6️⃣5️⃣.0️⃣0️⃣0️⃣ Follower auf #T...</td>\n",
       "      <td>{'id': 738771661915344897, 'id_str': '73877166...</td>\n",
       "      <td>0</td>\n",
       "      <td>{'created_at': 'Wed Aug 02 21:28:47 +0000 2017...</td>\n",
       "      <td>btw17</td>\n",
       "      <td>6️⃣5️⃣.0️⃣0️⃣0️⃣ Follower auf #Twitter!\\nDie #...</td>\n",
       "      <td>️⃣️⃣.️⃣️⃣️⃣ Follower auf #Twitter!\\nDie #AfD-P...</td>\n",
       "      <td>[follower, twitter, finden, immer, mehr, anklang]</td>\n",
       "    </tr>\n",
       "    <tr>\n",
       "      <th>1</th>\n",
       "      <td>2017-08-02</td>\n",
       "      <td>RT @FraukePetry: #OSZE nimmt Sorge der #AfD er...</td>\n",
       "      <td>{'id': 855324133, 'id_str': '855324133', 'name...</td>\n",
       "      <td>0</td>\n",
       "      <td>{'created_at': 'Wed Aug 02 11:37:33 +0000 2017...</td>\n",
       "      <td>btw17</td>\n",
       "      <td>#OSZE nimmt Sorge der #AfD ernst und schickt T...</td>\n",
       "      <td>#OSZE nimmt Sorge der #AfD ernst und schickt T...</td>\n",
       "      <td>[osze, nehmen, sorge, afd, ernst, schicken, te...</td>\n",
       "    </tr>\n",
       "    <tr>\n",
       "      <th>2</th>\n",
       "      <td>2017-08-02</td>\n",
       "      <td>RT @AfD_Bund: 6️⃣5️⃣.0️⃣0️⃣0️⃣ Follower auf #T...</td>\n",
       "      <td>{'id': 1305881724, 'id_str': '1305881724', 'na...</td>\n",
       "      <td>0</td>\n",
       "      <td>{'created_at': 'Wed Aug 02 21:28:47 +0000 2017...</td>\n",
       "      <td>btw17</td>\n",
       "      <td>6️⃣5️⃣.0️⃣0️⃣0️⃣ Follower auf #Twitter!\\nDie #...</td>\n",
       "      <td>️⃣️⃣.️⃣️⃣️⃣ Follower auf #Twitter!\\nDie #AfD-P...</td>\n",
       "      <td>[follower, twitter, finden, immer, mehr, anklang]</td>\n",
       "    </tr>\n",
       "  </tbody>\n",
       "</table>\n",
       "</div>"
      ],
      "text/plain": [
       "   created_at                                               text  \\\n",
       "0  2017-08-02  RT @AfD_Bund: 6️⃣5️⃣.0️⃣0️⃣0️⃣ Follower auf #T...   \n",
       "1  2017-08-02  RT @FraukePetry: #OSZE nimmt Sorge der #AfD er...   \n",
       "2  2017-08-02  RT @AfD_Bund: 6️⃣5️⃣.0️⃣0️⃣0️⃣ Follower auf #T...   \n",
       "\n",
       "                                                user extended_tweet  \\\n",
       "0  {'id': 738771661915344897, 'id_str': '73877166...              0   \n",
       "1  {'id': 855324133, 'id_str': '855324133', 'name...              0   \n",
       "2  {'id': 1305881724, 'id_str': '1305881724', 'na...              0   \n",
       "\n",
       "                                    retweeted_status   tags  \\\n",
       "0  {'created_at': 'Wed Aug 02 21:28:47 +0000 2017...  btw17   \n",
       "1  {'created_at': 'Wed Aug 02 11:37:33 +0000 2017...  btw17   \n",
       "2  {'created_at': 'Wed Aug 02 21:28:47 +0000 2017...  btw17   \n",
       "\n",
       "                                           full_text  \\\n",
       "0  6️⃣5️⃣.0️⃣0️⃣0️⃣ Follower auf #Twitter!\\nDie #...   \n",
       "1  #OSZE nimmt Sorge der #AfD ernst und schickt T...   \n",
       "2  6️⃣5️⃣.0️⃣0️⃣0️⃣ Follower auf #Twitter!\\nDie #...   \n",
       "\n",
       "                                 full_text_processed  \\\n",
       "0  ️⃣️⃣.️⃣️⃣️⃣ Follower auf #Twitter!\\nDie #AfD-P...   \n",
       "1  #OSZE nimmt Sorge der #AfD ernst und schickt T...   \n",
       "2  ️⃣️⃣.️⃣️⃣️⃣ Follower auf #Twitter!\\nDie #AfD-P...   \n",
       "\n",
       "                                              tokens  \n",
       "0  [follower, twitter, finden, immer, mehr, anklang]  \n",
       "1  [osze, nehmen, sorge, afd, ernst, schicken, te...  \n",
       "2  [follower, twitter, finden, immer, mehr, anklang]  "
      ]
     },
     "execution_count": 37,
     "metadata": {},
     "output_type": "execute_result"
    }
   ],
   "source": [
    "lda_tweets['tokens'] = tokens\n",
    "\n",
    "# save preprocessed tweets\n",
    "lda_tweets.to_json('../../data/BTW17_Twitter/lda/preprocessed_lda_tweets.json')\n",
    "lda_tweets.head(3)"
   ]
  },
  {
   "cell_type": "code",
   "execution_count": 53,
   "metadata": {},
   "outputs": [
    {
     "name": "stdout",
     "output_type": "stream",
     "text": [
      "original document: \n",
      "Presseerklärung zu Aussagen von Martin Schulz (#SPD) \n",
      "\n",
      "#afd #poggenburg #schulz\n",
      "\n",
      "https://t.co/WMZxoPKicq https://t.co/ibaYniIh59\n",
      "\n",
      "tokenized and lemmatized document: \n",
      "['presseerklärung', 'aussage', 'martin', 'schulz', 'spd', 'afd', 'poggenburg', 'schulz']\n"
     ]
    }
   ],
   "source": [
    "# evaluate preprocessing\n",
    "print('original document: ')\n",
    "print(lda_tweets['full_text'][120])\n",
    "print('\\ntokenized and lemmatized document: ')\n",
    "print(lda_tweets['tokens'][120])"
   ]
  }
 ],
 "metadata": {
  "kernelspec": {
   "display_name": "Python 3",
   "language": "python",
   "name": "python3"
  },
  "language_info": {
   "codemirror_mode": {
    "name": "ipython",
    "version": 3
   },
   "file_extension": ".py",
   "mimetype": "text/x-python",
   "name": "python",
   "nbconvert_exporter": "python",
   "pygments_lexer": "ipython3",
   "version": "3.7.6"
  },
  "widgets": {
   "application/vnd.jupyter.widget-state+json": {
    "state": {
     "033bcc7141cc42358249f6727767c2e5": {
      "model_module": "@jupyter-widgets/base",
      "model_module_version": "1.2.0",
      "model_name": "LayoutModel",
      "state": {}
     },
     "03e0f315604b4c2999b8235c91a41cab": {
      "model_module": "@jupyter-widgets/base",
      "model_module_version": "1.2.0",
      "model_name": "LayoutModel",
      "state": {}
     },
     "0d838dcadf594f9d9a5cf0e598d8e370": {
      "model_module": "@jupyter-widgets/controls",
      "model_module_version": "1.5.0",
      "model_name": "ProgressStyleModel",
      "state": {
       "description_width": ""
      }
     },
     "279d4feae97746e98868f947e02eaa42": {
      "model_module": "@jupyter-widgets/controls",
      "model_module_version": "1.5.0",
      "model_name": "HTMLModel",
      "state": {
       "layout": "IPY_MODEL_72d33ffe83114ec19c080674dc6eb9fb",
       "style": "IPY_MODEL_c89a24d6a57940f3a6c964d6305b54a6",
       "value": "100%"
      }
     },
     "2d0f01c3e53845f6ad6a63ec8dd4df83": {
      "model_module": "@jupyter-widgets/controls",
      "model_module_version": "1.5.0",
      "model_name": "ProgressStyleModel",
      "state": {
       "description_width": ""
      }
     },
     "2e30150f75a642e1bd4f3cf6d3c02b63": {
      "model_module": "@jupyter-widgets/controls",
      "model_module_version": "1.5.0",
      "model_name": "HTMLModel",
      "state": {
       "layout": "IPY_MODEL_f4eaf558550d4ef1b950484037ef59e6",
       "style": "IPY_MODEL_ddc42abf122f4fcd810dc90fe3742be3",
       "value": " 62986/62986 [3:17:55&lt;00:00,  5.33it/s]"
      }
     },
     "3172a58bcb1248d4a20c90a0928da263": {
      "model_module": "@jupyter-widgets/base",
      "model_module_version": "1.2.0",
      "model_name": "LayoutModel",
      "state": {}
     },
     "36a7e8dd5dea4474bce9fff35dae4a94": {
      "model_module": "@jupyter-widgets/controls",
      "model_module_version": "1.5.0",
      "model_name": "HTMLModel",
      "state": {
       "layout": "IPY_MODEL_5c65df45835e46c68f3bfe0eefdc85f2",
       "style": "IPY_MODEL_939a4828dcaf4b369a43cde8ee5974e1",
       "value": " 30596/30596 [08:08&lt;00:00, 67.45it/s]"
      }
     },
     "454801f217924bc48505aae5b6a362c3": {
      "model_module": "@jupyter-widgets/controls",
      "model_module_version": "1.5.0",
      "model_name": "DescriptionStyleModel",
      "state": {
       "description_width": ""
      }
     },
     "53135c3148044810bcca7550f1d0b6bc": {
      "model_module": "@jupyter-widgets/base",
      "model_module_version": "1.2.0",
      "model_name": "LayoutModel",
      "state": {}
     },
     "59d504cffc5b4a95a60a8c1107a29d82": {
      "model_module": "@jupyter-widgets/base",
      "model_module_version": "1.2.0",
      "model_name": "LayoutModel",
      "state": {}
     },
     "5a32341e8d02487d915339585edd4179": {
      "model_module": "@jupyter-widgets/controls",
      "model_module_version": "1.5.0",
      "model_name": "HBoxModel",
      "state": {
       "children": [
        "IPY_MODEL_84eaea1037404ec3b21e9abe04e6130d",
        "IPY_MODEL_5b0c94c7c10f46188b29aa2440224d8e",
        "IPY_MODEL_c8b711edb8bd47f8abcac6fa98c1d966"
       ],
       "layout": "IPY_MODEL_3172a58bcb1248d4a20c90a0928da263"
      }
     },
     "5b0c94c7c10f46188b29aa2440224d8e": {
      "model_module": "@jupyter-widgets/controls",
      "model_module_version": "1.5.0",
      "model_name": "FloatProgressModel",
      "state": {
       "bar_style": "success",
       "layout": "IPY_MODEL_6f75f5f69f274798bad155de6bb43a31",
       "max": 30596,
       "style": "IPY_MODEL_b2bb5e1236e645c7ae45ff1bbbd6d290",
       "value": 30596
      }
     },
     "5c65df45835e46c68f3bfe0eefdc85f2": {
      "model_module": "@jupyter-widgets/base",
      "model_module_version": "1.2.0",
      "model_name": "LayoutModel",
      "state": {}
     },
     "6381f819010040dead8590300612696a": {
      "model_module": "@jupyter-widgets/base",
      "model_module_version": "1.2.0",
      "model_name": "LayoutModel",
      "state": {}
     },
     "6801e659b3044abaacda476d11757d36": {
      "model_module": "@jupyter-widgets/controls",
      "model_module_version": "1.5.0",
      "model_name": "HTMLModel",
      "state": {
       "layout": "IPY_MODEL_6c604dd648c44338827a0a360a5e3cb7",
       "style": "IPY_MODEL_fccb39783fec40218dc35a6e5843e618",
       "value": "100%"
      }
     },
     "6c604dd648c44338827a0a360a5e3cb7": {
      "model_module": "@jupyter-widgets/base",
      "model_module_version": "1.2.0",
      "model_name": "LayoutModel",
      "state": {}
     },
     "6f2dc0b8d82944308337394cbab229d1": {
      "model_module": "@jupyter-widgets/controls",
      "model_module_version": "1.5.0",
      "model_name": "HBoxModel",
      "state": {
       "children": [
        "IPY_MODEL_cfd4b6cb55054b8da05b819a2d34410c",
        "IPY_MODEL_9034b29da7584358ab323536dc3583d7",
        "IPY_MODEL_ea255716b6a04eb4a76dbedb0198fa1d"
       ],
       "layout": "IPY_MODEL_59d504cffc5b4a95a60a8c1107a29d82"
      }
     },
     "6f75f5f69f274798bad155de6bb43a31": {
      "model_module": "@jupyter-widgets/base",
      "model_module_version": "1.2.0",
      "model_name": "LayoutModel",
      "state": {}
     },
     "70ba0df4f18e41cea7d5ea01877a2598": {
      "model_module": "@jupyter-widgets/controls",
      "model_module_version": "1.5.0",
      "model_name": "DescriptionStyleModel",
      "state": {
       "description_width": ""
      }
     },
     "72d33ffe83114ec19c080674dc6eb9fb": {
      "model_module": "@jupyter-widgets/base",
      "model_module_version": "1.2.0",
      "model_name": "LayoutModel",
      "state": {}
     },
     "782b6a868a9a433992e3e48c2fd7a90b": {
      "model_module": "@jupyter-widgets/base",
      "model_module_version": "1.2.0",
      "model_name": "LayoutModel",
      "state": {}
     },
     "84eaea1037404ec3b21e9abe04e6130d": {
      "model_module": "@jupyter-widgets/controls",
      "model_module_version": "1.5.0",
      "model_name": "HTMLModel",
      "state": {
       "layout": "IPY_MODEL_cad8b893f9f54f92814b049e932fd940",
       "style": "IPY_MODEL_853f6360ecb84f1980f1513552100811",
       "value": "100%"
      }
     },
     "853f6360ecb84f1980f1513552100811": {
      "model_module": "@jupyter-widgets/controls",
      "model_module_version": "1.5.0",
      "model_name": "DescriptionStyleModel",
      "state": {
       "description_width": ""
      }
     },
     "8910fbdbcc25401787d770696d621107": {
      "model_module": "@jupyter-widgets/controls",
      "model_module_version": "1.5.0",
      "model_name": "HBoxModel",
      "state": {
       "children": [
        "IPY_MODEL_6801e659b3044abaacda476d11757d36",
        "IPY_MODEL_f3f6ea4d957c45ddbe0fe507056b74a3",
        "IPY_MODEL_2e30150f75a642e1bd4f3cf6d3c02b63"
       ],
       "layout": "IPY_MODEL_9fdd01446fb04af495bb6854e19cffd2"
      }
     },
     "8dae35699a344d5fa81341f9c5a242ae": {
      "model_module": "@jupyter-widgets/controls",
      "model_module_version": "1.5.0",
      "model_name": "DescriptionStyleModel",
      "state": {
       "description_width": ""
      }
     },
     "9034b29da7584358ab323536dc3583d7": {
      "model_module": "@jupyter-widgets/controls",
      "model_module_version": "1.5.0",
      "model_name": "FloatProgressModel",
      "state": {
       "bar_style": "success",
       "layout": "IPY_MODEL_6381f819010040dead8590300612696a",
       "max": 1308,
       "style": "IPY_MODEL_cc3d043e9f7f46b98a745e9b1bac0eb9",
       "value": 1308
      }
     },
     "939a4828dcaf4b369a43cde8ee5974e1": {
      "model_module": "@jupyter-widgets/controls",
      "model_module_version": "1.5.0",
      "model_name": "DescriptionStyleModel",
      "state": {
       "description_width": ""
      }
     },
     "9fdd01446fb04af495bb6854e19cffd2": {
      "model_module": "@jupyter-widgets/base",
      "model_module_version": "1.2.0",
      "model_name": "LayoutModel",
      "state": {}
     },
     "b2bb5e1236e645c7ae45ff1bbbd6d290": {
      "model_module": "@jupyter-widgets/controls",
      "model_module_version": "1.5.0",
      "model_name": "ProgressStyleModel",
      "state": {
       "description_width": ""
      }
     },
     "c0e16ad39cc54d1085a3931c67915b44": {
      "model_module": "@jupyter-widgets/controls",
      "model_module_version": "1.5.0",
      "model_name": "HBoxModel",
      "state": {
       "children": [
        "IPY_MODEL_279d4feae97746e98868f947e02eaa42",
        "IPY_MODEL_cbdca3c172bc4359a644c5e860877938",
        "IPY_MODEL_36a7e8dd5dea4474bce9fff35dae4a94"
       ],
       "layout": "IPY_MODEL_cdb0965815f14c8d9c5c13f59c43e776"
      }
     },
     "c89a24d6a57940f3a6c964d6305b54a6": {
      "model_module": "@jupyter-widgets/controls",
      "model_module_version": "1.5.0",
      "model_name": "DescriptionStyleModel",
      "state": {
       "description_width": ""
      }
     },
     "c8b711edb8bd47f8abcac6fa98c1d966": {
      "model_module": "@jupyter-widgets/controls",
      "model_module_version": "1.5.0",
      "model_name": "HTMLModel",
      "state": {
       "layout": "IPY_MODEL_033bcc7141cc42358249f6727767c2e5",
       "style": "IPY_MODEL_454801f217924bc48505aae5b6a362c3",
       "value": " 30596/30596 [09:17&lt;00:00, 50.25it/s]"
      }
     },
     "cad8b893f9f54f92814b049e932fd940": {
      "model_module": "@jupyter-widgets/base",
      "model_module_version": "1.2.0",
      "model_name": "LayoutModel",
      "state": {}
     },
     "cbdca3c172bc4359a644c5e860877938": {
      "model_module": "@jupyter-widgets/controls",
      "model_module_version": "1.5.0",
      "model_name": "FloatProgressModel",
      "state": {
       "bar_style": "success",
       "layout": "IPY_MODEL_03e0f315604b4c2999b8235c91a41cab",
       "max": 30596,
       "style": "IPY_MODEL_2d0f01c3e53845f6ad6a63ec8dd4df83",
       "value": 30596
      }
     },
     "cc3d043e9f7f46b98a745e9b1bac0eb9": {
      "model_module": "@jupyter-widgets/controls",
      "model_module_version": "1.5.0",
      "model_name": "ProgressStyleModel",
      "state": {
       "description_width": ""
      }
     },
     "cdb0965815f14c8d9c5c13f59c43e776": {
      "model_module": "@jupyter-widgets/base",
      "model_module_version": "1.2.0",
      "model_name": "LayoutModel",
      "state": {}
     },
     "cfd4b6cb55054b8da05b819a2d34410c": {
      "model_module": "@jupyter-widgets/controls",
      "model_module_version": "1.5.0",
      "model_name": "HTMLModel",
      "state": {
       "layout": "IPY_MODEL_782b6a868a9a433992e3e48c2fd7a90b",
       "style": "IPY_MODEL_8dae35699a344d5fa81341f9c5a242ae",
       "value": "100%"
      }
     },
     "ddc42abf122f4fcd810dc90fe3742be3": {
      "model_module": "@jupyter-widgets/controls",
      "model_module_version": "1.5.0",
      "model_name": "DescriptionStyleModel",
      "state": {
       "description_width": ""
      }
     },
     "ea255716b6a04eb4a76dbedb0198fa1d": {
      "model_module": "@jupyter-widgets/controls",
      "model_module_version": "1.5.0",
      "model_name": "HTMLModel",
      "state": {
       "layout": "IPY_MODEL_f2944333e3964906ae98a658e46b1af5",
       "style": "IPY_MODEL_70ba0df4f18e41cea7d5ea01877a2598",
       "value": " 1308/1308 [12:51&lt;00:00,  1.16it/s]"
      }
     },
     "f2944333e3964906ae98a658e46b1af5": {
      "model_module": "@jupyter-widgets/base",
      "model_module_version": "1.2.0",
      "model_name": "LayoutModel",
      "state": {}
     },
     "f3f6ea4d957c45ddbe0fe507056b74a3": {
      "model_module": "@jupyter-widgets/controls",
      "model_module_version": "1.5.0",
      "model_name": "FloatProgressModel",
      "state": {
       "bar_style": "success",
       "layout": "IPY_MODEL_53135c3148044810bcca7550f1d0b6bc",
       "max": 62986,
       "style": "IPY_MODEL_0d838dcadf594f9d9a5cf0e598d8e370",
       "value": 62986
      }
     },
     "f4eaf558550d4ef1b950484037ef59e6": {
      "model_module": "@jupyter-widgets/base",
      "model_module_version": "1.2.0",
      "model_name": "LayoutModel",
      "state": {}
     },
     "fccb39783fec40218dc35a6e5843e618": {
      "model_module": "@jupyter-widgets/controls",
      "model_module_version": "1.5.0",
      "model_name": "DescriptionStyleModel",
      "state": {
       "description_width": ""
      }
     }
    },
    "version_major": 2,
    "version_minor": 0
   }
  }
 },
 "nbformat": 4,
 "nbformat_minor": 4
}
