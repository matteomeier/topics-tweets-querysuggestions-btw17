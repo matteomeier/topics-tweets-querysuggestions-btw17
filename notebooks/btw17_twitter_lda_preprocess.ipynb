{
 "cells": [
  {
   "cell_type": "code",
   "execution_count": 1,
   "metadata": {},
   "outputs": [],
   "source": [
    "import pandas as pd\n",
    "pd.set_option('display.max_columns', None)\n",
    "import glob\n",
    "from tqdm.notebook import tqdm\n",
    "from datetime import datetime, timedelta\n",
    "import warnings\n",
    "warnings.filterwarnings('ignore')"
   ]
  },
  {
   "cell_type": "code",
   "execution_count": 2,
   "metadata": {},
   "outputs": [
    {
     "data": {
      "application/vnd.jupyter.widget-view+json": {
       "model_id": "a4ffd5a614f740b2aa5fa9f004e2a54d",
       "version_major": 2,
       "version_minor": 0
      },
      "text/plain": [
       "  0%|          | 0/1308 [00:00<?, ?it/s]"
      ]
     },
     "metadata": {},
     "output_type": "display_data"
    }
   ],
   "source": [
    "# set to *.csv to process all\n",
    "path_to_csv = '../../data/BTW17_Twitter/hashtags/*.csv'\n",
    "file_list = glob.glob(path_to_csv)\n",
    "\n",
    "df = pd.DataFrame()\n",
    "\n",
    "# concatenate dataframes\n",
    "for index in tqdm(range(len(file_list))):\n",
    "    file = file_list[index]\n",
    "    \n",
    "    # read file to df if first file\n",
    "    if index==0:\n",
    "        df = pd.read_csv(file)\n",
    "        df.drop('Unnamed: 0', axis=1, inplace=True)\n",
    "    \n",
    "    # append to df if not first file\n",
    "    else:\n",
    "        df2 = pd.read_csv(file)\n",
    "        df2.drop('Unnamed: 0', axis=1, inplace=True)\n",
    "        df = df.append(df2)\n",
    "\n",
    "df = df.groupby(['date', 'hashtag'], as_index=False).sum('count')"
   ]
  },
  {
   "cell_type": "code",
   "execution_count": 3,
   "metadata": {},
   "outputs": [],
   "source": [
    "# get peak indices\n",
    "peak_df = pd.read_csv('../../data/BTW17_Twitter/peaks/peaks.csv')\n",
    "peak_df.drop(columns='Unnamed: 0', axis=1, inplace=True)"
   ]
  },
  {
   "cell_type": "code",
   "execution_count": 4,
   "metadata": {},
   "outputs": [
    {
     "data": {
      "application/vnd.jupyter.widget-view+json": {
       "model_id": "8412f3fa3c2c424db683865739ff1edb",
       "version_major": 2,
       "version_minor": 0
      },
      "text/plain": [
       "  0%|          | 0/30595 [00:00<?, ?it/s]"
      ]
     },
     "metadata": {},
     "output_type": "display_data"
    }
   ],
   "source": [
    "# mark peaks in dataframe and save to complete_df\n",
    "hashtag_list = df['hashtag'].unique().tolist()\n",
    "\n",
    "complete_df = pd.DataFrame()\n",
    "\n",
    "for i in tqdm(range(len(hashtag_list))):\n",
    "    hashtag = hashtag_list[i]\n",
    "    small_df = df[df['hashtag']==hashtag].reset_index()\n",
    "    small_peak_df = peak_df[peak_df['hashtag']==hashtag].reset_index()\n",
    "    small_df['peak'] = 0\n",
    "    for peak in small_peak_df['peak'].tolist():\n",
    "        small_df.loc[int(peak), 'peak'] = 1\n",
    "    complete_df = complete_df.append(small_df)\n",
    "    "
   ]
  },
  {
   "cell_type": "code",
   "execution_count": 5,
   "metadata": {
    "scrolled": true
   },
   "outputs": [
    {
     "data": {
      "text/html": [
       "<div>\n",
       "<style scoped>\n",
       "    .dataframe tbody tr th:only-of-type {\n",
       "        vertical-align: middle;\n",
       "    }\n",
       "\n",
       "    .dataframe tbody tr th {\n",
       "        vertical-align: top;\n",
       "    }\n",
       "\n",
       "    .dataframe thead th {\n",
       "        text-align: right;\n",
       "    }\n",
       "</style>\n",
       "<table border=\"1\" class=\"dataframe\">\n",
       "  <thead>\n",
       "    <tr style=\"text-align: right;\">\n",
       "      <th></th>\n",
       "      <th>index</th>\n",
       "      <th>date</th>\n",
       "      <th>hashtag</th>\n",
       "      <th>count</th>\n",
       "      <th>peak</th>\n",
       "    </tr>\n",
       "  </thead>\n",
       "  <tbody>\n",
       "    <tr>\n",
       "      <th>0</th>\n",
       "      <td>0</td>\n",
       "      <td>2017-05-29</td>\n",
       "      <td>150jahrekapital</td>\n",
       "      <td>1</td>\n",
       "      <td>0</td>\n",
       "    </tr>\n",
       "    <tr>\n",
       "      <th>0</th>\n",
       "      <td>1</td>\n",
       "      <td>2017-05-29</td>\n",
       "      <td>a19</td>\n",
       "      <td>1</td>\n",
       "      <td>0</td>\n",
       "    </tr>\n",
       "    <tr>\n",
       "      <th>0</th>\n",
       "      <td>2</td>\n",
       "      <td>2017-05-29</td>\n",
       "      <td>abschiebung</td>\n",
       "      <td>14</td>\n",
       "      <td>0</td>\n",
       "    </tr>\n",
       "    <tr>\n",
       "      <th>1</th>\n",
       "      <td>1725</td>\n",
       "      <td>2017-05-31</td>\n",
       "      <td>abschiebung</td>\n",
       "      <td>19</td>\n",
       "      <td>0</td>\n",
       "    </tr>\n",
       "    <tr>\n",
       "      <th>2</th>\n",
       "      <td>2613</td>\n",
       "      <td>2017-06-01</td>\n",
       "      <td>abschiebung</td>\n",
       "      <td>23</td>\n",
       "      <td>0</td>\n",
       "    </tr>\n",
       "  </tbody>\n",
       "</table>\n",
       "</div>"
      ],
      "text/plain": [
       "   index        date          hashtag  count  peak\n",
       "0      0  2017-05-29  150jahrekapital      1     0\n",
       "0      1  2017-05-29              a19      1     0\n",
       "0      2  2017-05-29      abschiebung     14     0\n",
       "1   1725  2017-05-31      abschiebung     19     0\n",
       "2   2613  2017-06-01      abschiebung     23     0"
      ]
     },
     "execution_count": 5,
     "metadata": {},
     "output_type": "execute_result"
    }
   ],
   "source": [
    "complete_df.head()"
   ]
  },
  {
   "cell_type": "code",
   "execution_count": 6,
   "metadata": {},
   "outputs": [
    {
     "data": {
      "application/vnd.jupyter.widget-view+json": {
       "model_id": "384af71420f146aeb39bd05cbb155899",
       "version_major": 2,
       "version_minor": 0
      },
      "text/plain": [
       "  0%|          | 0/30595 [00:00<?, ?it/s]"
      ]
     },
     "metadata": {},
     "output_type": "display_data"
    }
   ],
   "source": [
    "# get hashtag and peak +- 3 days for topic modeling\n",
    "hashtag_list = df['hashtag'].unique().tolist()\n",
    "lda_dates = []    \n",
    "\n",
    "for i in tqdm(range(len(hashtag_list))):\n",
    "    hashtag = hashtag_list[i]\n",
    "    peak_dates = complete_df[(complete_df['peak']==1)&(complete_df['hashtag']==hashtag)]['date'].tolist()\n",
    "    for peak in peak_dates:\n",
    "        start = str(datetime.strptime(peak, '%Y-%m-%d').date() - timedelta(days=3))\n",
    "        end = str(datetime.strptime(peak, '%Y-%m-%d').date() + timedelta(days=3))\n",
    "        daterange = pd.date_range(start, end)\n",
    "        output_dates = []\n",
    "        for date in daterange:\n",
    "            output_dates.append(date.strftime('%Y-%m-%d'))\n",
    "    if peak_dates:\n",
    "        lda_dates.append(output_dates)\n",
    "    else:\n",
    "        lda_dates.append(peak_dates)\n",
    "\n",
    "output_df = pd.DataFrame({'hashtag': hashtag_list, 'lda_dates': lda_dates})"
   ]
  },
  {
   "cell_type": "code",
   "execution_count": 7,
   "metadata": {},
   "outputs": [],
   "source": [
    "# save to csv\n",
    "path_file = '../../data/BTW17_Twitter/peaks/hashtags_dates.csv'\n",
    "output_df.to_csv(path_file)"
   ]
  }
 ],
 "metadata": {
  "kernelspec": {
   "display_name": "Python 3",
   "language": "python",
   "name": "python3"
  },
  "language_info": {
   "codemirror_mode": {
    "name": "ipython",
    "version": 3
   },
   "file_extension": ".py",
   "mimetype": "text/x-python",
   "name": "python",
   "nbconvert_exporter": "python",
   "pygments_lexer": "ipython3",
   "version": "3.7.6"
  }
 },
 "nbformat": 4,
 "nbformat_minor": 4
}
