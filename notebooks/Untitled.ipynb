{
 "cells": [
  {
   "cell_type": "code",
   "execution_count": 28,
   "metadata": {},
   "outputs": [],
   "source": [
    "import pandas as pd\n",
    "\n",
    "df = pd.read_json('../../data/BTW17_Suggestions/suggestions/cluster.json')\n",
    "\n",
    "df['sugg'] = df['suggestion'].apply(lambda x: ' '.join([sugg for sugg in x]))\n",
    "\n",
    "output = {'cluster':[],'sugg':[]}\n",
    "\n",
    "for cluster in df['cluster'].unique():\n",
    "    output['cluster'].append(cluster)\n",
    "    tmp = df[df['cluster']==cluster]\n",
    "    output['sugg'].append(tmp['sugg'].str.cat(sep=', '))\n",
    "\n",
    "pd.DataFrame(data=output).to_csv(('../../data/BTW17_Suggestions/suggestions/cluster_categories_2.csv'))"
   ]
  },
  {
   "cell_type": "code",
   "execution_count": 29,
   "metadata": {},
   "outputs": [],
   "source": [
    "df = pd.DataFrame(data=output)"
   ]
  },
  {
   "cell_type": "code",
   "execution_count": 30,
   "metadata": {},
   "outputs": [],
   "source": [
    "df2 = pd.read_csv('../../data/BTW17_Suggestions/suggestions/cluster_categories.csv')"
   ]
  },
  {
   "cell_type": "code",
   "execution_count": 31,
   "metadata": {},
   "outputs": [],
   "source": [
    "output = df.merge(df2, how='left', on='cluster')"
   ]
  },
  {
   "cell_type": "code",
   "execution_count": 37,
   "metadata": {},
   "outputs": [],
   "source": [
    "output.drop('suggestion', axis=1, inplace=True)"
   ]
  },
  {
   "cell_type": "code",
   "execution_count": 39,
   "metadata": {},
   "outputs": [],
   "source": [
    "df = output[['cluster', 'category', 'sugg']]"
   ]
  },
  {
   "cell_type": "code",
   "execution_count": 41,
   "metadata": {},
   "outputs": [],
   "source": [
    "df.to_csv(('../../data/BTW17_Suggestions/suggestions/cluster_categories.csv'))"
   ]
  }
 ],
 "metadata": {
  "kernelspec": {
   "display_name": "Python 3",
   "language": "python",
   "name": "python3"
  },
  "language_info": {
   "codemirror_mode": {
    "name": "ipython",
    "version": 3
   },
   "file_extension": ".py",
   "mimetype": "text/x-python",
   "name": "python",
   "nbconvert_exporter": "python",
   "pygments_lexer": "ipython3",
   "version": "3.7.6"
  }
 },
 "nbformat": 4,
 "nbformat_minor": 4
}
