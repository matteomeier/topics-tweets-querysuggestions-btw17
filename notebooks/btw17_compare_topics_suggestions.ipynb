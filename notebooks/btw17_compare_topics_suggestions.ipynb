{
 "cells": [
  {
   "cell_type": "code",
   "execution_count": 1,
   "metadata": {},
   "outputs": [],
   "source": [
    "# import relevant moduls\n",
    "import pandas as pd\n",
    "pd.set_option('display.max_columns', None)\n",
    "import warnings\n",
    "warnings.filterwarnings('ignore')\n",
    "from sklearn.manifold import TSNE\n",
    "import sys\n",
    "sys.path.append('../scripts/')\n",
    "from analysis import vectorize_hashtags, compare_vectors"
   ]
  },
  {
   "cell_type": "code",
   "execution_count": 2,
   "metadata": {},
   "outputs": [],
   "source": [
    "# read and clean files\n",
    "cluster_df = pd.read_json('../../data/BTW17_Suggestions/suggestions/cluster.json')\n",
    "topics_df = pd.read_json('../../data/BTW17_Twitter/lda/hashtag_topics.json')"
   ]
  },
  {
   "cell_type": "code",
   "execution_count": 3,
   "metadata": {
    "scrolled": true
   },
   "outputs": [
    {
     "data": {
      "text/html": [
       "<div>\n",
       "<style scoped>\n",
       "    .dataframe tbody tr th:only-of-type {\n",
       "        vertical-align: middle;\n",
       "    }\n",
       "\n",
       "    .dataframe tbody tr th {\n",
       "        vertical-align: top;\n",
       "    }\n",
       "\n",
       "    .dataframe thead th {\n",
       "        text-align: right;\n",
       "    }\n",
       "</style>\n",
       "<table border=\"1\" class=\"dataframe\">\n",
       "  <thead>\n",
       "    <tr style=\"text-align: right;\">\n",
       "      <th></th>\n",
       "      <th>t-SNE(x)</th>\n",
       "      <th>t-SNE(y)</th>\n",
       "      <th>suggestion</th>\n",
       "      <th>cluster</th>\n",
       "      <th>vector</th>\n",
       "    </tr>\n",
       "  </thead>\n",
       "  <tbody>\n",
       "    <tr>\n",
       "      <th>0</th>\n",
       "      <td>-34.498154</td>\n",
       "      <td>29.302818</td>\n",
       "      <td>[gebrochen]</td>\n",
       "      <td>0</td>\n",
       "      <td>[-10.9891014099, 48.0791358948]</td>\n",
       "    </tr>\n",
       "    <tr>\n",
       "      <th>1</th>\n",
       "      <td>-25.847075</td>\n",
       "      <td>27.667850</td>\n",
       "      <td>[stadt, land, fluss]</td>\n",
       "      <td>0</td>\n",
       "      <td>[-12.6391649246, 62.3373641968]</td>\n",
       "    </tr>\n",
       "    <tr>\n",
       "      <th>2</th>\n",
       "      <td>-36.280140</td>\n",
       "      <td>21.939951</td>\n",
       "      <td>[konzert, für, dich]</td>\n",
       "      <td>0</td>\n",
       "      <td>[30.8803348541, 18.8737182617]</td>\n",
       "    </tr>\n",
       "  </tbody>\n",
       "</table>\n",
       "</div>"
      ],
      "text/plain": [
       "    t-SNE(x)   t-SNE(y)            suggestion  cluster  \\\n",
       "0 -34.498154  29.302818           [gebrochen]        0   \n",
       "1 -25.847075  27.667850  [stadt, land, fluss]        0   \n",
       "2 -36.280140  21.939951  [konzert, für, dich]        0   \n",
       "\n",
       "                            vector  \n",
       "0  [-10.9891014099, 48.0791358948]  \n",
       "1  [-12.6391649246, 62.3373641968]  \n",
       "2   [30.8803348541, 18.8737182617]  "
      ]
     },
     "execution_count": 3,
     "metadata": {},
     "output_type": "execute_result"
    }
   ],
   "source": [
    "# filter out all noisepoints\n",
    "cluster_df = cluster_df[cluster_df['cluster']!=-1].reset_index(drop=True)\n",
    "cluster_df.head(3)"
   ]
  },
  {
   "cell_type": "code",
   "execution_count": 4,
   "metadata": {},
   "outputs": [
    {
     "data": {
      "text/html": [
       "<div>\n",
       "<style scoped>\n",
       "    .dataframe tbody tr th:only-of-type {\n",
       "        vertical-align: middle;\n",
       "    }\n",
       "\n",
       "    .dataframe tbody tr th {\n",
       "        vertical-align: top;\n",
       "    }\n",
       "\n",
       "    .dataframe thead th {\n",
       "        text-align: right;\n",
       "    }\n",
       "</style>\n",
       "<table border=\"1\" class=\"dataframe\">\n",
       "  <thead>\n",
       "    <tr style=\"text-align: right;\">\n",
       "      <th></th>\n",
       "      <th>hashtag</th>\n",
       "      <th>topic</th>\n",
       "      <th>topic_words</th>\n",
       "      <th>scores</th>\n",
       "    </tr>\n",
       "  </thead>\n",
       "  <tbody>\n",
       "    <tr>\n",
       "      <th>0</th>\n",
       "      <td>btw17</td>\n",
       "      <td>60</td>\n",
       "      <td>[erdogan, seehofer, türkei, obergrenze, mögen,...</td>\n",
       "      <td>[0.139, 0.064, 0.056, 0.030, 0.029, 0.026, 0.0...</td>\n",
       "    </tr>\n",
       "    <tr>\n",
       "      <th>1</th>\n",
       "      <td>traudichdeutschland</td>\n",
       "      <td>60</td>\n",
       "      <td>[erdogan, seehofer, türkei, obergrenze, mögen,...</td>\n",
       "      <td>[0.139, 0.064, 0.056, 0.030, 0.029, 0.026, 0.0...</td>\n",
       "    </tr>\n",
       "    <tr>\n",
       "      <th>2</th>\n",
       "      <td>gauland</td>\n",
       "      <td>60</td>\n",
       "      <td>[erdogan, seehofer, türkei, obergrenze, mögen,...</td>\n",
       "      <td>[0.139, 0.064, 0.056, 0.030, 0.029, 0.026, 0.0...</td>\n",
       "    </tr>\n",
       "  </tbody>\n",
       "</table>\n",
       "</div>"
      ],
      "text/plain": [
       "               hashtag  topic  \\\n",
       "0                btw17     60   \n",
       "1  traudichdeutschland     60   \n",
       "2              gauland     60   \n",
       "\n",
       "                                         topic_words  \\\n",
       "0  [erdogan, seehofer, türkei, obergrenze, mögen,...   \n",
       "1  [erdogan, seehofer, türkei, obergrenze, mögen,...   \n",
       "2  [erdogan, seehofer, türkei, obergrenze, mögen,...   \n",
       "\n",
       "                                              scores  \n",
       "0  [0.139, 0.064, 0.056, 0.030, 0.029, 0.026, 0.0...  \n",
       "1  [0.139, 0.064, 0.056, 0.030, 0.029, 0.026, 0.0...  \n",
       "2  [0.139, 0.064, 0.056, 0.030, 0.029, 0.026, 0.0...  "
      ]
     },
     "execution_count": 4,
     "metadata": {},
     "output_type": "execute_result"
    }
   ],
   "source": [
    "topics_df.head(3)"
   ]
  },
  {
   "cell_type": "code",
   "execution_count": 5,
   "metadata": {},
   "outputs": [],
   "source": [
    "for i in range(len(topics_df)):\n",
    "    sum_score = 0\n",
    "    for score in topics_df['scores'][i]:\n",
    "        sum_score = sum_score + float(score)\n",
    "    topics_df['topic_words'][i].append(topics_df['hashtag'][i])\n",
    "    topics_df['scores'][i].append(sum_score)"
   ]
  },
  {
   "cell_type": "code",
   "execution_count": 7,
   "metadata": {},
   "outputs": [],
   "source": [
    "hashtag_vectors = vectorize_hashtags(topics_df)"
   ]
  },
  {
   "cell_type": "code",
   "execution_count": 9,
   "metadata": {},
   "outputs": [],
   "source": [
    "# tsne transformation to 2d\n",
    "tsne = TSNE(n_components=2, random_state=1410)\n",
    "X_tsne = tsne.fit_transform(hashtag_vectors)\n",
    "topics_df['vector'] = [x for x in X_tsne]"
   ]
  },
  {
   "cell_type": "code",
   "execution_count": 10,
   "metadata": {},
   "outputs": [
    {
     "data": {
      "application/vnd.jupyter.widget-view+json": {
       "model_id": "b44a99398e9547dea4129a7393f29e2e",
       "version_major": 2,
       "version_minor": 0
      },
      "text/plain": [
       "  0%|          | 0/17761 [00:00<?, ?it/s]"
      ]
     },
     "metadata": {},
     "output_type": "display_data"
    },
    {
     "data": {
      "text/html": [
       "<div>\n",
       "<style scoped>\n",
       "    .dataframe tbody tr th:only-of-type {\n",
       "        vertical-align: middle;\n",
       "    }\n",
       "\n",
       "    .dataframe tbody tr th {\n",
       "        vertical-align: top;\n",
       "    }\n",
       "\n",
       "    .dataframe thead th {\n",
       "        text-align: right;\n",
       "    }\n",
       "</style>\n",
       "<table border=\"1\" class=\"dataframe\">\n",
       "  <thead>\n",
       "    <tr style=\"text-align: right;\">\n",
       "      <th></th>\n",
       "      <th>suggestion</th>\n",
       "      <th>cluster</th>\n",
       "      <th>similarity_scores</th>\n",
       "    </tr>\n",
       "  </thead>\n",
       "  <tbody>\n",
       "    <tr>\n",
       "      <th>0</th>\n",
       "      <td>[gebrochen]</td>\n",
       "      <td>0</td>\n",
       "      <td>[-0.969, -0.969, 0.136, 0.144, 0.191, 0.191, 0...</td>\n",
       "    </tr>\n",
       "    <tr>\n",
       "      <th>1</th>\n",
       "      <td>[stadt, land, fluss]</td>\n",
       "      <td>0</td>\n",
       "      <td>[-0.974, -0.974, 0.16, 0.169, 0.215, 0.215, 0....</td>\n",
       "    </tr>\n",
       "    <tr>\n",
       "      <th>2</th>\n",
       "      <td>[konzert, für, dich]</td>\n",
       "      <td>0</td>\n",
       "      <td>[-0.544, -0.544, 0.982, 0.984, 0.991, 0.991, 0...</td>\n",
       "    </tr>\n",
       "  </tbody>\n",
       "</table>\n",
       "</div>"
      ],
      "text/plain": [
       "             suggestion  cluster  \\\n",
       "0           [gebrochen]        0   \n",
       "1  [stadt, land, fluss]        0   \n",
       "2  [konzert, für, dich]        0   \n",
       "\n",
       "                                   similarity_scores  \n",
       "0  [-0.969, -0.969, 0.136, 0.144, 0.191, 0.191, 0...  \n",
       "1  [-0.974, -0.974, 0.16, 0.169, 0.215, 0.215, 0....  \n",
       "2  [-0.544, -0.544, 0.982, 0.984, 0.991, 0.991, 0...  "
      ]
     },
     "execution_count": 10,
     "metadata": {},
     "output_type": "execute_result"
    }
   ],
   "source": [
    "similarity_df = compare_vectors(topics_df['vector'].to_numpy(), cluster_df)\n",
    "similarity_df.head(3)"
   ]
  },
  {
   "cell_type": "code",
   "execution_count": 11,
   "metadata": {},
   "outputs": [],
   "source": [
    "# save df to json\n",
    "similarity_df.to_json('../../data/BTW17_Suggestions/suggestions/vector_similarity.json')\n",
    "topics_df.to_json('../../data/BTW17_Twitter/hashtags/hashtag_vectors.json')"
   ]
  }
 ],
 "metadata": {
  "kernelspec": {
   "display_name": "Python 3",
   "language": "python",
   "name": "python3"
  },
  "language_info": {
   "codemirror_mode": {
    "name": "ipython",
    "version": 3
   },
   "file_extension": ".py",
   "mimetype": "text/x-python",
   "name": "python",
   "nbconvert_exporter": "python",
   "pygments_lexer": "ipython3",
   "version": "3.7.6"
  },
  "widgets": {
   "application/vnd.jupyter.widget-state+json": {
    "state": {
     "1bdc1bbb3c3f4709b39854cbf2515035": {
      "model_module": "@jupyter-widgets/controls",
      "model_module_version": "1.5.0",
      "model_name": "ProgressStyleModel",
      "state": {
       "description_width": ""
      }
     },
     "1e803bdedc32415297909c46f29d5b5a": {
      "model_module": "@jupyter-widgets/base",
      "model_module_version": "1.2.0",
      "model_name": "LayoutModel",
      "state": {}
     },
     "20893f37e36f48c1a43f5f4182eea2fc": {
      "model_module": "@jupyter-widgets/controls",
      "model_module_version": "1.5.0",
      "model_name": "DescriptionStyleModel",
      "state": {
       "description_width": ""
      }
     },
     "2362cadea39249ecab5287604f0de1c3": {
      "model_module": "@jupyter-widgets/base",
      "model_module_version": "1.2.0",
      "model_name": "LayoutModel",
      "state": {}
     },
     "3dcb3b9bf2fd41a481115d7992a7672f": {
      "model_module": "@jupyter-widgets/controls",
      "model_module_version": "1.5.0",
      "model_name": "HTMLModel",
      "state": {
       "layout": "IPY_MODEL_1e803bdedc32415297909c46f29d5b5a",
       "style": "IPY_MODEL_20893f37e36f48c1a43f5f4182eea2fc",
       "value": "100%"
      }
     },
     "7264b575035f4a0d95463e27d3adc62f": {
      "model_module": "@jupyter-widgets/controls",
      "model_module_version": "1.5.0",
      "model_name": "ProgressStyleModel",
      "state": {
       "description_width": ""
      }
     },
     "72b761c99e2f40e3aae4015bca30e98a": {
      "model_module": "@jupyter-widgets/controls",
      "model_module_version": "1.5.0",
      "model_name": "DescriptionStyleModel",
      "state": {
       "description_width": ""
      }
     },
     "75a0d792e1ed45f885e9bd0d2817f36b": {
      "model_module": "@jupyter-widgets/controls",
      "model_module_version": "1.5.0",
      "model_name": "FloatProgressModel",
      "state": {
       "bar_style": "success",
       "layout": "IPY_MODEL_95e613cf3ada45e1aa5778d260fd756d",
       "max": 25321,
       "style": "IPY_MODEL_1bdc1bbb3c3f4709b39854cbf2515035",
       "value": 25321
      }
     },
     "773d4dcb564648c09f19ef5f6728a24e": {
      "model_module": "@jupyter-widgets/controls",
      "model_module_version": "1.5.0",
      "model_name": "DescriptionStyleModel",
      "state": {
       "description_width": ""
      }
     },
     "7ca3a2d1dd644e82b9809d7335572b1b": {
      "model_module": "@jupyter-widgets/base",
      "model_module_version": "1.2.0",
      "model_name": "LayoutModel",
      "state": {}
     },
     "7d459dedc11f45dfa54dde5dbc301689": {
      "model_module": "@jupyter-widgets/controls",
      "model_module_version": "1.5.0",
      "model_name": "HBoxModel",
      "state": {
       "children": [
        "IPY_MODEL_3dcb3b9bf2fd41a481115d7992a7672f",
        "IPY_MODEL_75a0d792e1ed45f885e9bd0d2817f36b",
        "IPY_MODEL_bfce70eef10543c5b952c6a6cdc7a716"
       ],
       "layout": "IPY_MODEL_801d86803604481187a30891c1bb2b8a"
      }
     },
     "801d86803604481187a30891c1bb2b8a": {
      "model_module": "@jupyter-widgets/base",
      "model_module_version": "1.2.0",
      "model_name": "LayoutModel",
      "state": {}
     },
     "86b41352c6b0474facee497640eaf6b8": {
      "model_module": "@jupyter-widgets/controls",
      "model_module_version": "1.5.0",
      "model_name": "HTMLModel",
      "state": {
       "layout": "IPY_MODEL_2362cadea39249ecab5287604f0de1c3",
       "style": "IPY_MODEL_72b761c99e2f40e3aae4015bca30e98a",
       "value": "100%"
      }
     },
     "95e613cf3ada45e1aa5778d260fd756d": {
      "model_module": "@jupyter-widgets/base",
      "model_module_version": "1.2.0",
      "model_name": "LayoutModel",
      "state": {}
     },
     "a2d0882fd7c34e2c8fe32be6ac14862a": {
      "model_module": "@jupyter-widgets/controls",
      "model_module_version": "1.5.0",
      "model_name": "DescriptionStyleModel",
      "state": {
       "description_width": ""
      }
     },
     "b07f27b0af294764b0067ce0bd7cb896": {
      "model_module": "@jupyter-widgets/base",
      "model_module_version": "1.2.0",
      "model_name": "LayoutModel",
      "state": {}
     },
     "bfce70eef10543c5b952c6a6cdc7a716": {
      "model_module": "@jupyter-widgets/controls",
      "model_module_version": "1.5.0",
      "model_name": "HTMLModel",
      "state": {
       "layout": "IPY_MODEL_d83bb1a32adc4ce5a5afa9fc8e4a1667",
       "style": "IPY_MODEL_773d4dcb564648c09f19ef5f6728a24e",
       "value": " 25321/25321 [03:08&lt;00:00, 106.86it/s]"
      }
     },
     "c459d24d06a842969534e50f34f6bc79": {
      "model_module": "@jupyter-widgets/base",
      "model_module_version": "1.2.0",
      "model_name": "LayoutModel",
      "state": {}
     },
     "caad584af4164b0a805c492235729185": {
      "model_module": "@jupyter-widgets/controls",
      "model_module_version": "1.5.0",
      "model_name": "HBoxModel",
      "state": {
       "children": [
        "IPY_MODEL_86b41352c6b0474facee497640eaf6b8",
        "IPY_MODEL_d86f1999465e44b3ad4e4633198c25f8",
        "IPY_MODEL_e3e76ec77f8647079534cd7862420eb9"
       ],
       "layout": "IPY_MODEL_c459d24d06a842969534e50f34f6bc79"
      }
     },
     "d83bb1a32adc4ce5a5afa9fc8e4a1667": {
      "model_module": "@jupyter-widgets/base",
      "model_module_version": "1.2.0",
      "model_name": "LayoutModel",
      "state": {}
     },
     "d86f1999465e44b3ad4e4633198c25f8": {
      "model_module": "@jupyter-widgets/controls",
      "model_module_version": "1.5.0",
      "model_name": "FloatProgressModel",
      "state": {
       "bar_style": "success",
       "layout": "IPY_MODEL_7ca3a2d1dd644e82b9809d7335572b1b",
       "max": 25321,
       "style": "IPY_MODEL_7264b575035f4a0d95463e27d3adc62f",
       "value": 25321
      }
     },
     "e3e76ec77f8647079534cd7862420eb9": {
      "model_module": "@jupyter-widgets/controls",
      "model_module_version": "1.5.0",
      "model_name": "HTMLModel",
      "state": {
       "layout": "IPY_MODEL_b07f27b0af294764b0067ce0bd7cb896",
       "style": "IPY_MODEL_a2d0882fd7c34e2c8fe32be6ac14862a",
       "value": " 25321/25321 [02:24&lt;00:00, 168.05it/s]"
      }
     }
    },
    "version_major": 2,
    "version_minor": 0
   }
  }
 },
 "nbformat": 4,
 "nbformat_minor": 4
}
