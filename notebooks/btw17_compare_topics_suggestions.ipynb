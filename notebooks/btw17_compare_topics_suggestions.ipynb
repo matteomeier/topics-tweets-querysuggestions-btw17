{
 "cells": [
  {
   "cell_type": "code",
   "execution_count": 1,
   "metadata": {},
   "outputs": [],
   "source": [
    "# import relevant moduls\n",
    "import pandas as pd\n",
    "pd.set_option('display.max_columns', None)\n",
    "import warnings\n",
    "warnings.filterwarnings('ignore')\n",
    "import sys\n",
    "sys.path.append('../scripts/')\n",
    "from analysis import vectorize_hashtags, compare_vectors"
   ]
  },
  {
   "cell_type": "code",
   "execution_count": 2,
   "metadata": {},
   "outputs": [],
   "source": [
    "# read and clean files\n",
    "cluster_df = pd.read_json('../../data/BTW17_Suggestions/suggestions/cluster.json')\n",
    "topics_df = pd.read_json('../../data/BTW17_Twitter/lda/hashtag_topics.json')"
   ]
  },
  {
   "cell_type": "code",
   "execution_count": 3,
   "metadata": {
    "scrolled": true
   },
   "outputs": [
    {
     "data": {
      "text/html": [
       "<div>\n",
       "<style scoped>\n",
       "    .dataframe tbody tr th:only-of-type {\n",
       "        vertical-align: middle;\n",
       "    }\n",
       "\n",
       "    .dataframe tbody tr th {\n",
       "        vertical-align: top;\n",
       "    }\n",
       "\n",
       "    .dataframe thead th {\n",
       "        text-align: right;\n",
       "    }\n",
       "</style>\n",
       "<table border=\"1\" class=\"dataframe\">\n",
       "  <thead>\n",
       "    <tr style=\"text-align: right;\">\n",
       "      <th></th>\n",
       "      <th>x</th>\n",
       "      <th>y</th>\n",
       "      <th>suggestion</th>\n",
       "      <th>cluster</th>\n",
       "      <th>vector</th>\n",
       "    </tr>\n",
       "  </thead>\n",
       "  <tbody>\n",
       "    <tr>\n",
       "      <th>0</th>\n",
       "      <td>-41.195660</td>\n",
       "      <td>24.601269</td>\n",
       "      <td>[kritik]</td>\n",
       "      <td>-1</td>\n",
       "      <td>[0.1406999975, 0.4914999902, -0.5505999923, -0...</td>\n",
       "    </tr>\n",
       "    <tr>\n",
       "      <th>1</th>\n",
       "      <td>29.848356</td>\n",
       "      <td>7.018672</td>\n",
       "      <td>[sabine, leidinger, oppenheim]</td>\n",
       "      <td>-1</td>\n",
       "      <td>[-0.1115000024, -0.5394250154, -0.354649990800...</td>\n",
       "    </tr>\n",
       "    <tr>\n",
       "      <th>2</th>\n",
       "      <td>-3.223571</td>\n",
       "      <td>8.100126</td>\n",
       "      <td>[hermann, göring]</td>\n",
       "      <td>-1</td>\n",
       "      <td>[-0.0913999975, -0.27849999070000003, -0.56410...</td>\n",
       "    </tr>\n",
       "  </tbody>\n",
       "</table>\n",
       "</div>"
      ],
      "text/plain": [
       "           x          y                      suggestion  cluster  \\\n",
       "0 -41.195660  24.601269                        [kritik]       -1   \n",
       "1  29.848356   7.018672  [sabine, leidinger, oppenheim]       -1   \n",
       "2  -3.223571   8.100126               [hermann, göring]       -1   \n",
       "\n",
       "                                              vector  \n",
       "0  [0.1406999975, 0.4914999902, -0.5505999923, -0...  \n",
       "1  [-0.1115000024, -0.5394250154, -0.354649990800...  \n",
       "2  [-0.0913999975, -0.27849999070000003, -0.56410...  "
      ]
     },
     "execution_count": 3,
     "metadata": {},
     "output_type": "execute_result"
    }
   ],
   "source": [
    "cluster_df.head(3)"
   ]
  },
  {
   "cell_type": "code",
   "execution_count": 4,
   "metadata": {},
   "outputs": [
    {
     "data": {
      "text/html": [
       "<div>\n",
       "<style scoped>\n",
       "    .dataframe tbody tr th:only-of-type {\n",
       "        vertical-align: middle;\n",
       "    }\n",
       "\n",
       "    .dataframe tbody tr th {\n",
       "        vertical-align: top;\n",
       "    }\n",
       "\n",
       "    .dataframe thead th {\n",
       "        text-align: right;\n",
       "    }\n",
       "</style>\n",
       "<table border=\"1\" class=\"dataframe\">\n",
       "  <thead>\n",
       "    <tr style=\"text-align: right;\">\n",
       "      <th></th>\n",
       "      <th>hashtag</th>\n",
       "      <th>topic</th>\n",
       "      <th>topic_words</th>\n",
       "      <th>scores</th>\n",
       "    </tr>\n",
       "  </thead>\n",
       "  <tbody>\n",
       "    <tr>\n",
       "      <th>0</th>\n",
       "      <td>diesel</td>\n",
       "      <td>71</td>\n",
       "      <td>[schlussrunde, fast, deshalb, deutsch, rente, ...</td>\n",
       "      <td>[0.428, 0.040, 0.039, 0.033, 0.022, 0.020, 0.0...</td>\n",
       "    </tr>\n",
       "    <tr>\n",
       "      <th>1</th>\n",
       "      <td>denkenwirneu</td>\n",
       "      <td>27</td>\n",
       "      <td>[völlig, frei, polizei, islam, zeit, verändern...</td>\n",
       "      <td>[0.046, 0.042, 0.041, 0.041, 0.038, 0.030, 0.0...</td>\n",
       "    </tr>\n",
       "    <tr>\n",
       "      <th>2</th>\n",
       "      <td>bundestag</td>\n",
       "      <td>62</td>\n",
       "      <td>[stoppen, sozial, bekämpfen, mindestlohn, schü...</td>\n",
       "      <td>[0.075, 0.068, 0.064, 0.053, 0.052, 0.044, 0.0...</td>\n",
       "    </tr>\n",
       "  </tbody>\n",
       "</table>\n",
       "</div>"
      ],
      "text/plain": [
       "        hashtag  topic                                        topic_words  \\\n",
       "0        diesel     71  [schlussrunde, fast, deshalb, deutsch, rente, ...   \n",
       "1  denkenwirneu     27  [völlig, frei, polizei, islam, zeit, verändern...   \n",
       "2     bundestag     62  [stoppen, sozial, bekämpfen, mindestlohn, schü...   \n",
       "\n",
       "                                              scores  \n",
       "0  [0.428, 0.040, 0.039, 0.033, 0.022, 0.020, 0.0...  \n",
       "1  [0.046, 0.042, 0.041, 0.041, 0.038, 0.030, 0.0...  \n",
       "2  [0.075, 0.068, 0.064, 0.053, 0.052, 0.044, 0.0...  "
      ]
     },
     "execution_count": 4,
     "metadata": {},
     "output_type": "execute_result"
    }
   ],
   "source": [
    "topics_df.head(3)"
   ]
  },
  {
   "cell_type": "code",
   "execution_count": 5,
   "metadata": {},
   "outputs": [],
   "source": [
    "hashtag_vectors = vectorize_hashtags(topics_df)"
   ]
  },
  {
   "cell_type": "code",
   "execution_count": 6,
   "metadata": {},
   "outputs": [
    {
     "data": {
      "application/vnd.jupyter.widget-view+json": {
       "model_id": "25b9f68738b9490585f87685a9fc5932",
       "version_major": 2,
       "version_minor": 0
      },
      "text/plain": [
       "  0%|          | 0/25322 [00:00<?, ?it/s]"
      ]
     },
     "metadata": {},
     "output_type": "display_data"
    },
    {
     "data": {
      "text/html": [
       "<div>\n",
       "<style scoped>\n",
       "    .dataframe tbody tr th:only-of-type {\n",
       "        vertical-align: middle;\n",
       "    }\n",
       "\n",
       "    .dataframe tbody tr th {\n",
       "        vertical-align: top;\n",
       "    }\n",
       "\n",
       "    .dataframe thead th {\n",
       "        text-align: right;\n",
       "    }\n",
       "</style>\n",
       "<table border=\"1\" class=\"dataframe\">\n",
       "  <thead>\n",
       "    <tr style=\"text-align: right;\">\n",
       "      <th></th>\n",
       "      <th>suggestion</th>\n",
       "      <th>cluster</th>\n",
       "      <th>similarity_scores</th>\n",
       "    </tr>\n",
       "  </thead>\n",
       "  <tbody>\n",
       "    <tr>\n",
       "      <th>0</th>\n",
       "      <td>[kritik]</td>\n",
       "      <td>-1</td>\n",
       "      <td>[0.369, 0.577, 0.462, 0.5, 0.577, 0.602, 0.478...</td>\n",
       "    </tr>\n",
       "    <tr>\n",
       "      <th>1</th>\n",
       "      <td>[sabine, leidinger, oppenheim]</td>\n",
       "      <td>-1</td>\n",
       "      <td>[0.42, 0.607, 0.534, 0.606, 0.607, 0.57, 0.548...</td>\n",
       "    </tr>\n",
       "    <tr>\n",
       "      <th>2</th>\n",
       "      <td>[hermann, göring]</td>\n",
       "      <td>-1</td>\n",
       "      <td>[0.387, 0.405, 0.416, 0.342, 0.405, 0.336, 0.3...</td>\n",
       "    </tr>\n",
       "  </tbody>\n",
       "</table>\n",
       "</div>"
      ],
      "text/plain": [
       "                       suggestion  cluster  \\\n",
       "0                        [kritik]       -1   \n",
       "1  [sabine, leidinger, oppenheim]       -1   \n",
       "2               [hermann, göring]       -1   \n",
       "\n",
       "                                   similarity_scores  \n",
       "0  [0.369, 0.577, 0.462, 0.5, 0.577, 0.602, 0.478...  \n",
       "1  [0.42, 0.607, 0.534, 0.606, 0.607, 0.57, 0.548...  \n",
       "2  [0.387, 0.405, 0.416, 0.342, 0.405, 0.336, 0.3...  "
      ]
     },
     "execution_count": 6,
     "metadata": {},
     "output_type": "execute_result"
    }
   ],
   "source": [
    "similarity_df = compare_vectors(hashtag_vectors, cluster_df)\n",
    "similarity_df.head(3)"
   ]
  },
  {
   "cell_type": "code",
   "execution_count": 7,
   "metadata": {},
   "outputs": [],
   "source": [
    "# save df to json\n",
    "similarity_df.to_json('../../data/BTW17_Suggestions/suggestions/vector_similarity.json')"
   ]
  }
 ],
 "metadata": {
  "kernelspec": {
   "display_name": "Python 3",
   "language": "python",
   "name": "python3"
  },
  "language_info": {
   "codemirror_mode": {
    "name": "ipython",
    "version": 3
   },
   "file_extension": ".py",
   "mimetype": "text/x-python",
   "name": "python",
   "nbconvert_exporter": "python",
   "pygments_lexer": "ipython3",
   "version": "3.7.6"
  }
 },
 "nbformat": 4,
 "nbformat_minor": 4
}
