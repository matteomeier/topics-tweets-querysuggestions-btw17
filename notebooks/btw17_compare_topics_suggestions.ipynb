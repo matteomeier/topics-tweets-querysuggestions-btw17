{
 "cells": [
  {
   "cell_type": "code",
   "execution_count": 1,
   "metadata": {},
   "outputs": [],
   "source": [
    "# import relevant moduls\n",
    "import pandas as pd\n",
    "pd.set_option('display.max_columns', None)\n",
    "import glob\n",
    "from tqdm.notebook import tqdm\n",
    "from datetime import datetime, timedelta\n",
    "import warnings\n",
    "warnings.filterwarnings('ignore')\n",
    "import ast\n",
    "import json\n",
    "import numpy as np\n",
    "from gensim.models import Word2Vec\n",
    "from gensim import models\n",
    "import plotly.express as px"
   ]
  },
  {
   "cell_type": "code",
   "execution_count": 2,
   "metadata": {},
   "outputs": [],
   "source": [
    "# read and clean files\n",
    "cluster_df = pd.read_csv('../../data/BTW17_Suggestions/suggestions/cluster.csv')\n",
    "cluster_df.drop(columns='Unnamed: 0', axis=1, inplace=True)\n",
    "topics_df = pd.read_csv('../../data/BTW17_Twitter/lda/topics.csv')\n",
    "topics_df.drop(columns='Unnamed: 0', axis=1, inplace=True)"
   ]
  },
  {
   "cell_type": "code",
   "execution_count": 3,
   "metadata": {},
   "outputs": [
    {
     "data": {
      "text/html": [
       "<div>\n",
       "<style scoped>\n",
       "    .dataframe tbody tr th:only-of-type {\n",
       "        vertical-align: middle;\n",
       "    }\n",
       "\n",
       "    .dataframe tbody tr th {\n",
       "        vertical-align: top;\n",
       "    }\n",
       "\n",
       "    .dataframe thead th {\n",
       "        text-align: right;\n",
       "    }\n",
       "</style>\n",
       "<table border=\"1\" class=\"dataframe\">\n",
       "  <thead>\n",
       "    <tr style=\"text-align: right;\">\n",
       "      <th></th>\n",
       "      <th>x</th>\n",
       "      <th>y</th>\n",
       "      <th>z</th>\n",
       "      <th>suggestion</th>\n",
       "      <th>cluster</th>\n",
       "      <th>vector</th>\n",
       "    </tr>\n",
       "  </thead>\n",
       "  <tbody>\n",
       "    <tr>\n",
       "      <th>0</th>\n",
       "      <td>-5.934507</td>\n",
       "      <td>-13.884504</td>\n",
       "      <td>-15.370424</td>\n",
       "      <td>['waz']</td>\n",
       "      <td>0</td>\n",
       "      <td>[-0.2414  0.4842 -0.1616 -0.0521  0.6159 -0.84...</td>\n",
       "    </tr>\n",
       "    <tr>\n",
       "      <th>1</th>\n",
       "      <td>-4.854665</td>\n",
       "      <td>-10.565660</td>\n",
       "      <td>-15.258295</td>\n",
       "      <td>['bild', 'zeitung']</td>\n",
       "      <td>0</td>\n",
       "      <td>[-0.1158      0.48233333 -0.212      -0.3332  ...</td>\n",
       "    </tr>\n",
       "    <tr>\n",
       "      <th>2</th>\n",
       "      <td>-4.574384</td>\n",
       "      <td>-12.412379</td>\n",
       "      <td>-15.251037</td>\n",
       "      <td>['interview', 'badische', 'zeitung']</td>\n",
       "      <td>0</td>\n",
       "      <td>[ 9.11500007e-02  1.71550006e-01  1.30000710e-...</td>\n",
       "    </tr>\n",
       "    <tr>\n",
       "      <th>3</th>\n",
       "      <td>-5.265123</td>\n",
       "      <td>-12.737933</td>\n",
       "      <td>-17.156967</td>\n",
       "      <td>['tagesanzeiger']</td>\n",
       "      <td>0</td>\n",
       "      <td>[-0.43395     0.10869999 -0.36154997 -0.757949...</td>\n",
       "    </tr>\n",
       "    <tr>\n",
       "      <th>4</th>\n",
       "      <td>-2.996472</td>\n",
       "      <td>-10.088203</td>\n",
       "      <td>-17.916126</td>\n",
       "      <td>['traueranzeigen']</td>\n",
       "      <td>0</td>\n",
       "      <td>[-0.9071 -0.1063 -0.4996  0.0197 -0.5739 -0.61...</td>\n",
       "    </tr>\n",
       "  </tbody>\n",
       "</table>\n",
       "</div>"
      ],
      "text/plain": [
       "          x          y          z                            suggestion  \\\n",
       "0 -5.934507 -13.884504 -15.370424                               ['waz']   \n",
       "1 -4.854665 -10.565660 -15.258295                   ['bild', 'zeitung']   \n",
       "2 -4.574384 -12.412379 -15.251037  ['interview', 'badische', 'zeitung']   \n",
       "3 -5.265123 -12.737933 -17.156967                     ['tagesanzeiger']   \n",
       "4 -2.996472 -10.088203 -17.916126                    ['traueranzeigen']   \n",
       "\n",
       "   cluster                                             vector  \n",
       "0        0  [-0.2414  0.4842 -0.1616 -0.0521  0.6159 -0.84...  \n",
       "1        0  [-0.1158      0.48233333 -0.212      -0.3332  ...  \n",
       "2        0  [ 9.11500007e-02  1.71550006e-01  1.30000710e-...  \n",
       "3        0  [-0.43395     0.10869999 -0.36154997 -0.757949...  \n",
       "4        0  [-0.9071 -0.1063 -0.4996  0.0197 -0.5739 -0.61...  "
      ]
     },
     "execution_count": 3,
     "metadata": {},
     "output_type": "execute_result"
    }
   ],
   "source": [
    "cluster_df.head()"
   ]
  },
  {
   "cell_type": "code",
   "execution_count": 4,
   "metadata": {},
   "outputs": [
    {
     "data": {
      "text/html": [
       "<div>\n",
       "<style scoped>\n",
       "    .dataframe tbody tr th:only-of-type {\n",
       "        vertical-align: middle;\n",
       "    }\n",
       "\n",
       "    .dataframe tbody tr th {\n",
       "        vertical-align: top;\n",
       "    }\n",
       "\n",
       "    .dataframe thead th {\n",
       "        text-align: right;\n",
       "    }\n",
       "</style>\n",
       "<table border=\"1\" class=\"dataframe\">\n",
       "  <thead>\n",
       "    <tr style=\"text-align: right;\">\n",
       "      <th></th>\n",
       "      <th>hashtag</th>\n",
       "      <th>topic_words</th>\n",
       "      <th>scores</th>\n",
       "      <th>coherence</th>\n",
       "    </tr>\n",
       "  </thead>\n",
       "  <tbody>\n",
       "    <tr>\n",
       "      <th>0</th>\n",
       "      <td>dobrindt</td>\n",
       "      <td>['dobrindt', 'dieselgate', 'fahrverbote', 'ver...</td>\n",
       "      <td>['0.082', '0.070', '0.039', '0.037', '0.035', ...</td>\n",
       "      <td>0.374704</td>\n",
       "    </tr>\n",
       "    <tr>\n",
       "      <th>1</th>\n",
       "      <td>ard</td>\n",
       "      <td>['ard', 'afd', 'btw', 'zdf', 'traudichdeutschl...</td>\n",
       "      <td>['0.112', '0.101', '0.094', '0.088', '0.085', ...</td>\n",
       "      <td>0.249636</td>\n",
       "    </tr>\n",
       "    <tr>\n",
       "      <th>2</th>\n",
       "      <td>zeitfürmartin</td>\n",
       "      <td>['zeitfürmartin', 'meineschule', 'gebührenfrei...</td>\n",
       "      <td>['0.171', '0.037', '0.037', '0.037', '0.025', ...</td>\n",
       "      <td>0.421646</td>\n",
       "    </tr>\n",
       "    <tr>\n",
       "      <th>3</th>\n",
       "      <td>ehefueralle</td>\n",
       "      <td>['ehefueralle', 'bundestag', 'merkel', 'stimme...</td>\n",
       "      <td>['0.124', '0.017', '0.017', '0.012', '0.011', ...</td>\n",
       "      <td>0.324373</td>\n",
       "    </tr>\n",
       "    <tr>\n",
       "      <th>4</th>\n",
       "      <td>digitalisierung</td>\n",
       "      <td>['digitalisierung', 'nix', 'zukunft', 'eigentl...</td>\n",
       "      <td>['0.102', '0.049', '0.030', '0.029', '0.028', ...</td>\n",
       "      <td>0.258874</td>\n",
       "    </tr>\n",
       "  </tbody>\n",
       "</table>\n",
       "</div>"
      ],
      "text/plain": [
       "           hashtag                                        topic_words  \\\n",
       "0         dobrindt  ['dobrindt', 'dieselgate', 'fahrverbote', 'ver...   \n",
       "1              ard  ['ard', 'afd', 'btw', 'zdf', 'traudichdeutschl...   \n",
       "2    zeitfürmartin  ['zeitfürmartin', 'meineschule', 'gebührenfrei...   \n",
       "3      ehefueralle  ['ehefueralle', 'bundestag', 'merkel', 'stimme...   \n",
       "4  digitalisierung  ['digitalisierung', 'nix', 'zukunft', 'eigentl...   \n",
       "\n",
       "                                              scores  coherence  \n",
       "0  ['0.082', '0.070', '0.039', '0.037', '0.035', ...   0.374704  \n",
       "1  ['0.112', '0.101', '0.094', '0.088', '0.085', ...   0.249636  \n",
       "2  ['0.171', '0.037', '0.037', '0.037', '0.025', ...   0.421646  \n",
       "3  ['0.124', '0.017', '0.017', '0.012', '0.011', ...   0.324373  \n",
       "4  ['0.102', '0.049', '0.030', '0.029', '0.028', ...   0.258874  "
      ]
     },
     "execution_count": 4,
     "metadata": {},
     "output_type": "execute_result"
    }
   ],
   "source": [
    "topics_df.head()"
   ]
  },
  {
   "cell_type": "code",
   "execution_count": 5,
   "metadata": {},
   "outputs": [],
   "source": [
    "# read pretrained word2vec model\n",
    "model = models.KeyedVectors.load_word2vec_format('../../data/Word2Vec/dewiki_20180420_100d.txt')"
   ]
  },
  {
   "cell_type": "code",
   "execution_count": 6,
   "metadata": {},
   "outputs": [],
   "source": [
    "# get lists for faster iterating\n",
    "hashtag = topics_df['hashtag'].tolist()\n",
    "topic_words = topics_df['topic_words'].tolist()\n",
    "scores = topics_df['scores'].tolist()"
   ]
  },
  {
   "cell_type": "code",
   "execution_count": 7,
   "metadata": {},
   "outputs": [],
   "source": [
    "# retrieve vector per hashtag \n",
    "vectors = []\n",
    "\n",
    "# iterate through hashtags\n",
    "for i in range(len(hashtag)):\n",
    "    hashtag_vector = []\n",
    "    word_vectors = []\n",
    "    \n",
    "    # get word scores from lda\n",
    "    word_scores = ast.literal_eval(scores[i])\n",
    "    topics = ast.literal_eval(topic_words[i])\n",
    "    for j in reversed(range(len(topics))):\n",
    "        try:\n",
    "            # append word vector from word2vec model\n",
    "            word_vectors.append(model[topics[j]])\n",
    "        except:\n",
    "            # clean lists \n",
    "            topics.pop(j)\n",
    "            word_scores.pop(j)\n",
    "    \n",
    "    # get weighted average vector per hashtag and save them in one list\n",
    "    hashtag_vector = np.average(word_vectors, axis=0, weights=np.array(word_scores).astype(np.float))\n",
    "    vectors.append(hashtag_vector)"
   ]
  },
  {
   "cell_type": "code",
   "execution_count": 8,
   "metadata": {},
   "outputs": [],
   "source": [
    "# retrieve lists for suggestion and suggestions word2vec vectors\n",
    "suggestions = []\n",
    "for i in range(len(cluster_df)):\n",
    "    suggestions.append(ast.literal_eval(cluster_df['suggestion'][i]))\n",
    "\n",
    "sugg_vectors = cluster_df['vector'].tolist()"
   ]
  },
  {
   "cell_type": "code",
   "execution_count": 10,
   "metadata": {},
   "outputs": [
    {
     "data": {
      "application/vnd.jupyter.widget-view+json": {
       "model_id": "8f6ee7b5452a4bdd8c6ec095c893f7de",
       "version_major": 2,
       "version_minor": 0
      },
      "text/plain": [
       "  0%|          | 0/25321 [00:00<?, ?it/s]"
      ]
     },
     "metadata": {},
     "output_type": "display_data"
    }
   ],
   "source": [
    "# get similarity score for every suggestion per hashtag\n",
    "sim_scores = []\n",
    "\n",
    "# iterate through suggestions\n",
    "for i in tqdm(range(len(suggestions))):\n",
    "    temp = []\n",
    "    for vector in vectors:\n",
    "        \n",
    "        # clean suggestions vector because of shitty format\n",
    "        sugg_vector = ast.literal_eval(sugg_vectors[i]\n",
    "                                       .replace('\\n', '')\n",
    "                                       .replace(' ', ',')\n",
    "                                       .replace('[,', '[')\n",
    "                                       .replace(',]', ']')\n",
    "                                       .replace(',,,,', ',')\n",
    "                                       .replace(',,,', ',')\n",
    "                                       .replace(',,', ','))\n",
    "        \n",
    "        # calculate vector similarity for suggestions vector and hashtag vector\n",
    "        score = round(np.dot(sugg_vector, vector)\n",
    "                      / (np.linalg.norm(sugg_vector)\n",
    "                       * np.linalg.norm(vector)),3)\n",
    "        temp.append(score)\n",
    "    sim_scores.append(temp)"
   ]
  },
  {
   "cell_type": "code",
   "execution_count": 15,
   "metadata": {},
   "outputs": [],
   "source": [
    "cluster = cluster_df['cluster'].tolist()\n",
    "\n",
    "# create output df\n",
    "similarity_df = pd.DataFrame({'suggestion': suggestions, 'cluster': cluster, 'similarity_scores': sim_scores})"
   ]
  },
  {
   "cell_type": "code",
   "execution_count": 18,
   "metadata": {},
   "outputs": [
    {
     "data": {
      "text/html": [
       "<div>\n",
       "<style scoped>\n",
       "    .dataframe tbody tr th:only-of-type {\n",
       "        vertical-align: middle;\n",
       "    }\n",
       "\n",
       "    .dataframe tbody tr th {\n",
       "        vertical-align: top;\n",
       "    }\n",
       "\n",
       "    .dataframe thead th {\n",
       "        text-align: right;\n",
       "    }\n",
       "</style>\n",
       "<table border=\"1\" class=\"dataframe\">\n",
       "  <thead>\n",
       "    <tr style=\"text-align: right;\">\n",
       "      <th></th>\n",
       "      <th>suggestion</th>\n",
       "      <th>cluster</th>\n",
       "      <th>similarity_scores</th>\n",
       "    </tr>\n",
       "  </thead>\n",
       "  <tbody>\n",
       "    <tr>\n",
       "      <th>0</th>\n",
       "      <td>[waz]</td>\n",
       "      <td>0</td>\n",
       "      <td>[0.39, 0.465, 0.393, 0.428, 0.296, 0.533, 0.29...</td>\n",
       "    </tr>\n",
       "    <tr>\n",
       "      <th>1</th>\n",
       "      <td>[bild, zeitung]</td>\n",
       "      <td>0</td>\n",
       "      <td>[0.525, 0.605, 0.657, 0.57, 0.574, 0.516, 0.52...</td>\n",
       "    </tr>\n",
       "    <tr>\n",
       "      <th>2</th>\n",
       "      <td>[interview, badische, zeitung]</td>\n",
       "      <td>0</td>\n",
       "      <td>[0.525, 0.511, 0.527, 0.495, 0.586, 0.509, 0.4...</td>\n",
       "    </tr>\n",
       "  </tbody>\n",
       "</table>\n",
       "</div>"
      ],
      "text/plain": [
       "                       suggestion  cluster  \\\n",
       "0                           [waz]        0   \n",
       "1                 [bild, zeitung]        0   \n",
       "2  [interview, badische, zeitung]        0   \n",
       "\n",
       "                                   similarity_scores  \n",
       "0  [0.39, 0.465, 0.393, 0.428, 0.296, 0.533, 0.29...  \n",
       "1  [0.525, 0.605, 0.657, 0.57, 0.574, 0.516, 0.52...  \n",
       "2  [0.525, 0.511, 0.527, 0.495, 0.586, 0.509, 0.4...  "
      ]
     },
     "execution_count": 18,
     "metadata": {},
     "output_type": "execute_result"
    }
   ],
   "source": [
    "similarity_df.head(3)"
   ]
  },
  {
   "cell_type": "code",
   "execution_count": 17,
   "metadata": {},
   "outputs": [],
   "source": [
    "# save dfs to csv\n",
    "similarity_df.to_csv('../../data/BTW17_Suggestions/suggestions/topic_similarity.csv')"
   ]
  }
 ],
 "metadata": {
  "kernelspec": {
   "display_name": "Python 3",
   "language": "python",
   "name": "python3"
  },
  "language_info": {
   "codemirror_mode": {
    "name": "ipython",
    "version": 3
   },
   "file_extension": ".py",
   "mimetype": "text/x-python",
   "name": "python",
   "nbconvert_exporter": "python",
   "pygments_lexer": "ipython3",
   "version": "3.7.6"
  }
 },
 "nbformat": 4,
 "nbformat_minor": 4
}
