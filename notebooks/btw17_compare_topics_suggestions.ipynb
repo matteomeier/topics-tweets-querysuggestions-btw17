{
 "cells": [
  {
   "cell_type": "code",
   "execution_count": 1,
   "metadata": {},
   "outputs": [],
   "source": [
    "# import relevant moduls\n",
    "import pandas as pd\n",
    "pd.set_option('display.max_columns', None)\n",
    "import warnings\n",
    "warnings.filterwarnings('ignore')\n",
    "import sys\n",
    "sys.path.append('../scripts/')\n",
    "from analysis import vectorize_hashtags, compare_vectors"
   ]
  },
  {
   "cell_type": "code",
   "execution_count": 2,
   "metadata": {},
   "outputs": [],
   "source": [
    "# read and clean files\n",
    "cluster_df = pd.read_json('../../data/BTW17_Suggestions/suggestions/cluster.json')\n",
    "topics_df = pd.read_json('../../data/BTW17_Twitter/lda/hashtag_topics.json')"
   ]
  },
  {
   "cell_type": "code",
   "execution_count": 3,
   "metadata": {
    "scrolled": true
   },
   "outputs": [
    {
     "data": {
      "text/html": [
       "<div>\n",
       "<style scoped>\n",
       "    .dataframe tbody tr th:only-of-type {\n",
       "        vertical-align: middle;\n",
       "    }\n",
       "\n",
       "    .dataframe tbody tr th {\n",
       "        vertical-align: top;\n",
       "    }\n",
       "\n",
       "    .dataframe thead th {\n",
       "        text-align: right;\n",
       "    }\n",
       "</style>\n",
       "<table border=\"1\" class=\"dataframe\">\n",
       "  <thead>\n",
       "    <tr style=\"text-align: right;\">\n",
       "      <th></th>\n",
       "      <th>t-SNE(x)</th>\n",
       "      <th>t-SNE(y)</th>\n",
       "      <th>suggestion</th>\n",
       "      <th>cluster</th>\n",
       "      <th>vector</th>\n",
       "    </tr>\n",
       "  </thead>\n",
       "  <tbody>\n",
       "    <tr>\n",
       "      <th>0</th>\n",
       "      <td>58.082256</td>\n",
       "      <td>-41.479065</td>\n",
       "      <td>[sebastian]</td>\n",
       "      <td>0</td>\n",
       "      <td>[-0.5116000175000001, -0.3716000021, -0.538900...</td>\n",
       "    </tr>\n",
       "    <tr>\n",
       "      <th>1</th>\n",
       "      <td>58.891510</td>\n",
       "      <td>-41.588104</td>\n",
       "      <td>[bachs]</td>\n",
       "      <td>0</td>\n",
       "      <td>[0.3255000114, 0.1488000005, -0.301699996, -0....</td>\n",
       "    </tr>\n",
       "    <tr>\n",
       "      <th>2</th>\n",
       "      <td>58.082260</td>\n",
       "      <td>-41.479073</td>\n",
       "      <td>[sebastian]</td>\n",
       "      <td>0</td>\n",
       "      <td>[-0.20757141710000002, -0.0776142851, -0.07805...</td>\n",
       "    </tr>\n",
       "  </tbody>\n",
       "</table>\n",
       "</div>"
      ],
      "text/plain": [
       "    t-SNE(x)   t-SNE(y)   suggestion  cluster  \\\n",
       "0  58.082256 -41.479065  [sebastian]        0   \n",
       "1  58.891510 -41.588104      [bachs]        0   \n",
       "2  58.082260 -41.479073  [sebastian]        0   \n",
       "\n",
       "                                              vector  \n",
       "0  [-0.5116000175000001, -0.3716000021, -0.538900...  \n",
       "1  [0.3255000114, 0.1488000005, -0.301699996, -0....  \n",
       "2  [-0.20757141710000002, -0.0776142851, -0.07805...  "
      ]
     },
     "execution_count": 3,
     "metadata": {},
     "output_type": "execute_result"
    }
   ],
   "source": [
    "# filter out all noisepoints\n",
    "cluster_df = cluster_df[cluster_df['cluster']!=-1].reset_index(drop=True)\n",
    "cluster_df.head(3)"
   ]
  },
  {
   "cell_type": "code",
   "execution_count": 4,
   "metadata": {},
   "outputs": [
    {
     "data": {
      "text/html": [
       "<div>\n",
       "<style scoped>\n",
       "    .dataframe tbody tr th:only-of-type {\n",
       "        vertical-align: middle;\n",
       "    }\n",
       "\n",
       "    .dataframe tbody tr th {\n",
       "        vertical-align: top;\n",
       "    }\n",
       "\n",
       "    .dataframe thead th {\n",
       "        text-align: right;\n",
       "    }\n",
       "</style>\n",
       "<table border=\"1\" class=\"dataframe\">\n",
       "  <thead>\n",
       "    <tr style=\"text-align: right;\">\n",
       "      <th></th>\n",
       "      <th>hashtag</th>\n",
       "      <th>topic</th>\n",
       "      <th>topic_words</th>\n",
       "      <th>scores</th>\n",
       "    </tr>\n",
       "  </thead>\n",
       "  <tbody>\n",
       "    <tr>\n",
       "      <th>0</th>\n",
       "      <td>diesel</td>\n",
       "      <td>71</td>\n",
       "      <td>[schlussrunde, fast, deshalb, deutsch, rente, ...</td>\n",
       "      <td>[0.428, 0.040, 0.039, 0.033, 0.022, 0.020, 0.0...</td>\n",
       "    </tr>\n",
       "    <tr>\n",
       "      <th>1</th>\n",
       "      <td>denkenwirneu</td>\n",
       "      <td>27</td>\n",
       "      <td>[völlig, frei, polizei, islam, zeit, verändern...</td>\n",
       "      <td>[0.046, 0.042, 0.041, 0.041, 0.038, 0.030, 0.0...</td>\n",
       "    </tr>\n",
       "    <tr>\n",
       "      <th>2</th>\n",
       "      <td>bundestag</td>\n",
       "      <td>62</td>\n",
       "      <td>[stoppen, sozial, bekämpfen, mindestlohn, schü...</td>\n",
       "      <td>[0.075, 0.068, 0.064, 0.053, 0.052, 0.044, 0.0...</td>\n",
       "    </tr>\n",
       "  </tbody>\n",
       "</table>\n",
       "</div>"
      ],
      "text/plain": [
       "        hashtag  topic                                        topic_words  \\\n",
       "0        diesel     71  [schlussrunde, fast, deshalb, deutsch, rente, ...   \n",
       "1  denkenwirneu     27  [völlig, frei, polizei, islam, zeit, verändern...   \n",
       "2     bundestag     62  [stoppen, sozial, bekämpfen, mindestlohn, schü...   \n",
       "\n",
       "                                              scores  \n",
       "0  [0.428, 0.040, 0.039, 0.033, 0.022, 0.020, 0.0...  \n",
       "1  [0.046, 0.042, 0.041, 0.041, 0.038, 0.030, 0.0...  \n",
       "2  [0.075, 0.068, 0.064, 0.053, 0.052, 0.044, 0.0...  "
      ]
     },
     "execution_count": 4,
     "metadata": {},
     "output_type": "execute_result"
    }
   ],
   "source": [
    "topics_df.head(3)"
   ]
  },
  {
   "cell_type": "code",
   "execution_count": 5,
   "metadata": {},
   "outputs": [],
   "source": [
    "hashtag_vectors = vectorize_hashtags(topics_df)"
   ]
  },
  {
   "cell_type": "code",
   "execution_count": 6,
   "metadata": {},
   "outputs": [
    {
     "data": {
      "application/vnd.jupyter.widget-view+json": {
       "model_id": "ea53089603ee47e1989f528449cf3afc",
       "version_major": 2,
       "version_minor": 0
      },
      "text/plain": [
       "  0%|          | 0/13171 [00:00<?, ?it/s]"
      ]
     },
     "metadata": {},
     "output_type": "display_data"
    },
    {
     "data": {
      "text/html": [
       "<div>\n",
       "<style scoped>\n",
       "    .dataframe tbody tr th:only-of-type {\n",
       "        vertical-align: middle;\n",
       "    }\n",
       "\n",
       "    .dataframe tbody tr th {\n",
       "        vertical-align: top;\n",
       "    }\n",
       "\n",
       "    .dataframe thead th {\n",
       "        text-align: right;\n",
       "    }\n",
       "</style>\n",
       "<table border=\"1\" class=\"dataframe\">\n",
       "  <thead>\n",
       "    <tr style=\"text-align: right;\">\n",
       "      <th></th>\n",
       "      <th>suggestion</th>\n",
       "      <th>cluster</th>\n",
       "      <th>similarity_scores</th>\n",
       "    </tr>\n",
       "  </thead>\n",
       "  <tbody>\n",
       "    <tr>\n",
       "      <th>0</th>\n",
       "      <td>[sebastian]</td>\n",
       "      <td>0</td>\n",
       "      <td>[0.487, 0.4, 0.645, 0.418, 0.4, 0.435, 0.489, ...</td>\n",
       "    </tr>\n",
       "    <tr>\n",
       "      <th>1</th>\n",
       "      <td>[bachs]</td>\n",
       "      <td>0</td>\n",
       "      <td>[0.321, 0.388, 0.456, 0.476, 0.388, 0.5, 0.508...</td>\n",
       "    </tr>\n",
       "    <tr>\n",
       "      <th>2</th>\n",
       "      <td>[sebastian]</td>\n",
       "      <td>0</td>\n",
       "      <td>[0.563, 0.778, 0.643, 0.731, 0.778, 0.735, 0.6...</td>\n",
       "    </tr>\n",
       "  </tbody>\n",
       "</table>\n",
       "</div>"
      ],
      "text/plain": [
       "    suggestion  cluster                                  similarity_scores\n",
       "0  [sebastian]        0  [0.487, 0.4, 0.645, 0.418, 0.4, 0.435, 0.489, ...\n",
       "1      [bachs]        0  [0.321, 0.388, 0.456, 0.476, 0.388, 0.5, 0.508...\n",
       "2  [sebastian]        0  [0.563, 0.778, 0.643, 0.731, 0.778, 0.735, 0.6..."
      ]
     },
     "execution_count": 6,
     "metadata": {},
     "output_type": "execute_result"
    }
   ],
   "source": [
    "similarity_df = compare_vectors(hashtag_vectors, cluster_df)\n",
    "similarity_df.head(3)"
   ]
  },
  {
   "cell_type": "code",
   "execution_count": 7,
   "metadata": {},
   "outputs": [],
   "source": [
    "# save df to json\n",
    "similarity_df.to_json('../../data/BTW17_Suggestions/suggestions/vector_similarity.json')"
   ]
  }
 ],
 "metadata": {
  "kernelspec": {
   "display_name": "Python 3",
   "language": "python",
   "name": "python3"
  },
  "language_info": {
   "codemirror_mode": {
    "name": "ipython",
    "version": 3
   },
   "file_extension": ".py",
   "mimetype": "text/x-python",
   "name": "python",
   "nbconvert_exporter": "python",
   "pygments_lexer": "ipython3",
   "version": "3.7.6"
  },
  "widgets": {
   "application/vnd.jupyter.widget-state+json": {
    "state": {
     "1bdc1bbb3c3f4709b39854cbf2515035": {
      "model_module": "@jupyter-widgets/controls",
      "model_module_version": "1.5.0",
      "model_name": "ProgressStyleModel",
      "state": {
       "description_width": ""
      }
     },
     "1e803bdedc32415297909c46f29d5b5a": {
      "model_module": "@jupyter-widgets/base",
      "model_module_version": "1.2.0",
      "model_name": "LayoutModel",
      "state": {}
     },
     "20893f37e36f48c1a43f5f4182eea2fc": {
      "model_module": "@jupyter-widgets/controls",
      "model_module_version": "1.5.0",
      "model_name": "DescriptionStyleModel",
      "state": {
       "description_width": ""
      }
     },
     "2362cadea39249ecab5287604f0de1c3": {
      "model_module": "@jupyter-widgets/base",
      "model_module_version": "1.2.0",
      "model_name": "LayoutModel",
      "state": {}
     },
     "3dcb3b9bf2fd41a481115d7992a7672f": {
      "model_module": "@jupyter-widgets/controls",
      "model_module_version": "1.5.0",
      "model_name": "HTMLModel",
      "state": {
       "layout": "IPY_MODEL_1e803bdedc32415297909c46f29d5b5a",
       "style": "IPY_MODEL_20893f37e36f48c1a43f5f4182eea2fc",
       "value": "100%"
      }
     },
     "7264b575035f4a0d95463e27d3adc62f": {
      "model_module": "@jupyter-widgets/controls",
      "model_module_version": "1.5.0",
      "model_name": "ProgressStyleModel",
      "state": {
       "description_width": ""
      }
     },
     "72b761c99e2f40e3aae4015bca30e98a": {
      "model_module": "@jupyter-widgets/controls",
      "model_module_version": "1.5.0",
      "model_name": "DescriptionStyleModel",
      "state": {
       "description_width": ""
      }
     },
     "75a0d792e1ed45f885e9bd0d2817f36b": {
      "model_module": "@jupyter-widgets/controls",
      "model_module_version": "1.5.0",
      "model_name": "FloatProgressModel",
      "state": {
       "bar_style": "success",
       "layout": "IPY_MODEL_95e613cf3ada45e1aa5778d260fd756d",
       "max": 25321,
       "style": "IPY_MODEL_1bdc1bbb3c3f4709b39854cbf2515035",
       "value": 25321
      }
     },
     "773d4dcb564648c09f19ef5f6728a24e": {
      "model_module": "@jupyter-widgets/controls",
      "model_module_version": "1.5.0",
      "model_name": "DescriptionStyleModel",
      "state": {
       "description_width": ""
      }
     },
     "7ca3a2d1dd644e82b9809d7335572b1b": {
      "model_module": "@jupyter-widgets/base",
      "model_module_version": "1.2.0",
      "model_name": "LayoutModel",
      "state": {}
     },
     "7d459dedc11f45dfa54dde5dbc301689": {
      "model_module": "@jupyter-widgets/controls",
      "model_module_version": "1.5.0",
      "model_name": "HBoxModel",
      "state": {
       "children": [
        "IPY_MODEL_3dcb3b9bf2fd41a481115d7992a7672f",
        "IPY_MODEL_75a0d792e1ed45f885e9bd0d2817f36b",
        "IPY_MODEL_bfce70eef10543c5b952c6a6cdc7a716"
       ],
       "layout": "IPY_MODEL_801d86803604481187a30891c1bb2b8a"
      }
     },
     "801d86803604481187a30891c1bb2b8a": {
      "model_module": "@jupyter-widgets/base",
      "model_module_version": "1.2.0",
      "model_name": "LayoutModel",
      "state": {}
     },
     "86b41352c6b0474facee497640eaf6b8": {
      "model_module": "@jupyter-widgets/controls",
      "model_module_version": "1.5.0",
      "model_name": "HTMLModel",
      "state": {
       "layout": "IPY_MODEL_2362cadea39249ecab5287604f0de1c3",
       "style": "IPY_MODEL_72b761c99e2f40e3aae4015bca30e98a",
       "value": "100%"
      }
     },
     "95e613cf3ada45e1aa5778d260fd756d": {
      "model_module": "@jupyter-widgets/base",
      "model_module_version": "1.2.0",
      "model_name": "LayoutModel",
      "state": {}
     },
     "a2d0882fd7c34e2c8fe32be6ac14862a": {
      "model_module": "@jupyter-widgets/controls",
      "model_module_version": "1.5.0",
      "model_name": "DescriptionStyleModel",
      "state": {
       "description_width": ""
      }
     },
     "b07f27b0af294764b0067ce0bd7cb896": {
      "model_module": "@jupyter-widgets/base",
      "model_module_version": "1.2.0",
      "model_name": "LayoutModel",
      "state": {}
     },
     "bfce70eef10543c5b952c6a6cdc7a716": {
      "model_module": "@jupyter-widgets/controls",
      "model_module_version": "1.5.0",
      "model_name": "HTMLModel",
      "state": {
       "layout": "IPY_MODEL_d83bb1a32adc4ce5a5afa9fc8e4a1667",
       "style": "IPY_MODEL_773d4dcb564648c09f19ef5f6728a24e",
       "value": " 25321/25321 [03:08&lt;00:00, 106.86it/s]"
      }
     },
     "c459d24d06a842969534e50f34f6bc79": {
      "model_module": "@jupyter-widgets/base",
      "model_module_version": "1.2.0",
      "model_name": "LayoutModel",
      "state": {}
     },
     "caad584af4164b0a805c492235729185": {
      "model_module": "@jupyter-widgets/controls",
      "model_module_version": "1.5.0",
      "model_name": "HBoxModel",
      "state": {
       "children": [
        "IPY_MODEL_86b41352c6b0474facee497640eaf6b8",
        "IPY_MODEL_d86f1999465e44b3ad4e4633198c25f8",
        "IPY_MODEL_e3e76ec77f8647079534cd7862420eb9"
       ],
       "layout": "IPY_MODEL_c459d24d06a842969534e50f34f6bc79"
      }
     },
     "d83bb1a32adc4ce5a5afa9fc8e4a1667": {
      "model_module": "@jupyter-widgets/base",
      "model_module_version": "1.2.0",
      "model_name": "LayoutModel",
      "state": {}
     },
     "d86f1999465e44b3ad4e4633198c25f8": {
      "model_module": "@jupyter-widgets/controls",
      "model_module_version": "1.5.0",
      "model_name": "FloatProgressModel",
      "state": {
       "bar_style": "success",
       "layout": "IPY_MODEL_7ca3a2d1dd644e82b9809d7335572b1b",
       "max": 25321,
       "style": "IPY_MODEL_7264b575035f4a0d95463e27d3adc62f",
       "value": 25321
      }
     },
     "e3e76ec77f8647079534cd7862420eb9": {
      "model_module": "@jupyter-widgets/controls",
      "model_module_version": "1.5.0",
      "model_name": "HTMLModel",
      "state": {
       "layout": "IPY_MODEL_b07f27b0af294764b0067ce0bd7cb896",
       "style": "IPY_MODEL_a2d0882fd7c34e2c8fe32be6ac14862a",
       "value": " 25321/25321 [02:24&lt;00:00, 168.05it/s]"
      }
     }
    },
    "version_major": 2,
    "version_minor": 0
   }
  }
 },
 "nbformat": 4,
 "nbformat_minor": 4
}
