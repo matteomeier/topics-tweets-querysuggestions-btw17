{
 "cells": [
  {
   "cell_type": "code",
   "execution_count": 1,
   "metadata": {},
   "outputs": [],
   "source": [
    "# necessary imports\n",
    "import os, json\n",
    "import pandas as pd\n",
    "import numpy as np\n",
    "import glob\n",
    "from tqdm.notebook import tqdm\n",
    "pd.set_option('display.max_columns', None)\n",
    "import sys\n",
    "sys.path.append('../scripts/')\n",
    "from twitter import get_hashtags\n",
    "import ast"
   ]
  },
  {
   "cell_type": "code",
   "execution_count": 2,
   "metadata": {},
   "outputs": [
    {
     "data": {
      "text/html": [
       "<div>\n",
       "<style scoped>\n",
       "    .dataframe tbody tr th:only-of-type {\n",
       "        vertical-align: middle;\n",
       "    }\n",
       "\n",
       "    .dataframe tbody tr th {\n",
       "        vertical-align: top;\n",
       "    }\n",
       "\n",
       "    .dataframe thead th {\n",
       "        text-align: right;\n",
       "    }\n",
       "</style>\n",
       "<table border=\"1\" class=\"dataframe\">\n",
       "  <thead>\n",
       "    <tr style=\"text-align: right;\">\n",
       "      <th></th>\n",
       "      <th>hashtag</th>\n",
       "      <th>lda_dates</th>\n",
       "    </tr>\n",
       "  </thead>\n",
       "  <tbody>\n",
       "    <tr>\n",
       "      <th>0</th>\n",
       "      <td>afd</td>\n",
       "      <td>['2017-09-16', '2017-09-17', '2017-09-18', '20...</td>\n",
       "    </tr>\n",
       "    <tr>\n",
       "      <th>1</th>\n",
       "      <td>afghanistan</td>\n",
       "      <td>['2017-08-22', '2017-08-23', '2017-08-24', '20...</td>\n",
       "    </tr>\n",
       "    <tr>\n",
       "      <th>2</th>\n",
       "      <td>armut</td>\n",
       "      <td>['2017-08-28', '2017-08-29', '2017-08-30', '20...</td>\n",
       "    </tr>\n",
       "    <tr>\n",
       "      <th>3</th>\n",
       "      <td>bayern</td>\n",
       "      <td>['2017-09-11', '2017-09-12', '2017-09-13', '20...</td>\n",
       "    </tr>\n",
       "    <tr>\n",
       "      <th>4</th>\n",
       "      <td>berlin</td>\n",
       "      <td>['2017-09-02', '2017-09-03', '2017-09-04', '20...</td>\n",
       "    </tr>\n",
       "  </tbody>\n",
       "</table>\n",
       "</div>"
      ],
      "text/plain": [
       "       hashtag                                          lda_dates\n",
       "0          afd  ['2017-09-16', '2017-09-17', '2017-09-18', '20...\n",
       "1  afghanistan  ['2017-08-22', '2017-08-23', '2017-08-24', '20...\n",
       "2        armut  ['2017-08-28', '2017-08-29', '2017-08-30', '20...\n",
       "3       bayern  ['2017-09-11', '2017-09-12', '2017-09-13', '20...\n",
       "4       berlin  ['2017-09-02', '2017-09-03', '2017-09-04', '20..."
      ]
     },
     "execution_count": 2,
     "metadata": {},
     "output_type": "execute_result"
    }
   ],
   "source": [
    "# read lda dates for hashtags\n",
    "dates_df = pd.read_csv('../../data/BTW17_Twitter/peaks/hashtags_dates.csv')\n",
    "dates_df = dates_df[~(dates_df['lda_dates']=='[]')].reset_index()\n",
    "dates_df.drop(columns=['Unnamed: 0', 'index'], axis=1, inplace=True)\n",
    "dates_df.head()"
   ]
  },
  {
   "cell_type": "code",
   "execution_count": 20,
   "metadata": {
    "scrolled": true
   },
   "outputs": [
    {
     "data": {
      "application/vnd.jupyter.widget-view+json": {
       "model_id": "128286cb9451451fb22d1b7e21a67a4c",
       "version_major": 2,
       "version_minor": 0
      },
      "text/plain": [
       "HBox(children=(FloatProgress(value=0.0, max=1308.0), HTML(value='')))"
      ]
     },
     "metadata": {},
     "output_type": "display_data"
    },
    {
     "name": "stdout",
     "output_type": "stream",
     "text": [
      "\n"
     ]
    }
   ],
   "source": [
    "# set to *.json to load all\n",
    "path_to_json = '../../data/BTW17_Twitter/tweets/*.json'\n",
    "file_list = glob.glob(path_to_json)\n",
    "hashtag_list = dates_df['hashtag'].tolist()\n",
    "lda_dates_list = dates_df['lda_dates'].tolist()\n",
    "\n",
    "created_at_list = []\n",
    "id_list = []\n",
    "text_list = []\n",
    "user_list = []\n",
    "extended_tweet_list = []\n",
    "retweeted_status_list = []\n",
    "tags_list = []\n",
    "\n",
    "# iterate through files create output csv\n",
    "for index in tqdm(range(len(file_list))):\n",
    "    file = file_list[index]\n",
    "    with open(file, 'r') as f:\n",
    "        \n",
    "        # read df\n",
    "        df = pd.read_json(f)\n",
    "        # apply function get hashtags\n",
    "        df['tags'] = df['entities'].apply(get_hashtags)\n",
    "        \n",
    "        # explode tags to rows and drop na values\n",
    "        df = df.explode('tags')\n",
    "        df = df[df['tags'].notna()]\n",
    "        \n",
    "        # change datetime to date and lower all hashtags\n",
    "        df['created_at'] = pd.to_datetime(df['created_at']).dt.date\n",
    "        df['created_at'] = df['created_at'].apply(str)\n",
    "        df['tags'] = df['tags'].apply(lambda x: str(x).lower())\n",
    "                \n",
    "        for i in range(len(dates_df)):\n",
    "            hashtag = hashtag_list[i]\n",
    "            lda_dates = ast.literal_eval(lda_dates_list[i])\n",
    "            temp_df = df[(df['tags']==hashtag)&(df['created_at'].isin(lda_dates))]\n",
    "            \n",
    "            if len(temp_df)==0:\n",
    "                pass\n",
    "            else:\n",
    "                # append data to lists\n",
    "                created_at_list.append(temp_df['created_at'].tolist())\n",
    "                id_list.append(temp_df['id'].tolist())\n",
    "                text_list.append(temp_df['text'].tolist())\n",
    "                user_list.append(temp_df['user'].tolist())\n",
    "                extended_tweet_list.append(temp_df['extended_tweet'].tolist())\n",
    "                retweeted_status_list.append(temp_df['retweeted_status'].tolist())\n",
    "                tags_list.append(temp_df['tags'].tolist())"
   ]
  },
  {
   "cell_type": "code",
   "execution_count": 27,
   "metadata": {
    "scrolled": true
   },
   "outputs": [
    {
     "data": {
      "text/html": [
       "<div>\n",
       "<style scoped>\n",
       "    .dataframe tbody tr th:only-of-type {\n",
       "        vertical-align: middle;\n",
       "    }\n",
       "\n",
       "    .dataframe tbody tr th {\n",
       "        vertical-align: top;\n",
       "    }\n",
       "\n",
       "    .dataframe thead th {\n",
       "        text-align: right;\n",
       "    }\n",
       "</style>\n",
       "<table border=\"1\" class=\"dataframe\">\n",
       "  <thead>\n",
       "    <tr style=\"text-align: right;\">\n",
       "      <th></th>\n",
       "      <th>created_at</th>\n",
       "      <th>id</th>\n",
       "      <th>text</th>\n",
       "      <th>user</th>\n",
       "      <th>extended_tweet</th>\n",
       "      <th>retweeted_status</th>\n",
       "      <th>tags</th>\n",
       "    </tr>\n",
       "  </thead>\n",
       "  <tbody>\n",
       "    <tr>\n",
       "      <th>0</th>\n",
       "      <td>2017-08-02</td>\n",
       "      <td>892871750018621440</td>\n",
       "      <td>Endlich sagts mal einer, immerhin im Leitartik...</td>\n",
       "      <td>{'id': 52024480, 'id_str': '52024480', 'name':...</td>\n",
       "      <td>NaN</td>\n",
       "      <td>NaN</td>\n",
       "      <td>dobrindt</td>\n",
       "    </tr>\n",
       "    <tr>\n",
       "      <th>1</th>\n",
       "      <td>2017-08-02</td>\n",
       "      <td>892872839916859392</td>\n",
       "      <td>RT @DJanecek: Endlich sagts mal einer, immerhi...</td>\n",
       "      <td>{'id': 3338824444, 'id_str': '3338824444', 'na...</td>\n",
       "      <td>NaN</td>\n",
       "      <td>{'created_at': 'Wed Aug 02 22:16:28 +0000 2017...</td>\n",
       "      <td>dobrindt</td>\n",
       "    </tr>\n",
       "    <tr>\n",
       "      <th>2</th>\n",
       "      <td>2017-08-02</td>\n",
       "      <td>892874663499632640</td>\n",
       "      <td>RT @DJanecek: Endlich sagts mal einer, immerhi...</td>\n",
       "      <td>{'id': 4828089006, 'id_str': '4828089006', 'na...</td>\n",
       "      <td>NaN</td>\n",
       "      <td>{'created_at': 'Wed Aug 02 22:16:28 +0000 2017...</td>\n",
       "      <td>dobrindt</td>\n",
       "    </tr>\n",
       "    <tr>\n",
       "      <th>3</th>\n",
       "      <td>2017-08-03</td>\n",
       "      <td>892911669633966080</td>\n",
       "      <td>#Diesel #Dobrindt's schützende Hand über Autok...</td>\n",
       "      <td>{'id': 22900494, 'id_str': '22900494', 'name':...</td>\n",
       "      <td>NaN</td>\n",
       "      <td>NaN</td>\n",
       "      <td>dobrindt</td>\n",
       "    </tr>\n",
       "    <tr>\n",
       "      <th>4</th>\n",
       "      <td>2017-08-25</td>\n",
       "      <td>901122414809100288</td>\n",
       "      <td>RT @DuHugonotte: Nun kommt auch der #Staatssen...</td>\n",
       "      <td>{'id': 4830265798, 'id_str': '4830265798', 'na...</td>\n",
       "      <td>NaN</td>\n",
       "      <td>{'created_at': 'Fri Aug 25 05:32:42 +0000 2017...</td>\n",
       "      <td>ard</td>\n",
       "    </tr>\n",
       "  </tbody>\n",
       "</table>\n",
       "</div>"
      ],
      "text/plain": [
       "   created_at                  id  \\\n",
       "0  2017-08-02  892871750018621440   \n",
       "1  2017-08-02  892872839916859392   \n",
       "2  2017-08-02  892874663499632640   \n",
       "3  2017-08-03  892911669633966080   \n",
       "4  2017-08-25  901122414809100288   \n",
       "\n",
       "                                                text  \\\n",
       "0  Endlich sagts mal einer, immerhin im Leitartik...   \n",
       "1  RT @DJanecek: Endlich sagts mal einer, immerhi...   \n",
       "2  RT @DJanecek: Endlich sagts mal einer, immerhi...   \n",
       "3  #Diesel #Dobrindt's schützende Hand über Autok...   \n",
       "4  RT @DuHugonotte: Nun kommt auch der #Staatssen...   \n",
       "\n",
       "                                                user extended_tweet  \\\n",
       "0  {'id': 52024480, 'id_str': '52024480', 'name':...            NaN   \n",
       "1  {'id': 3338824444, 'id_str': '3338824444', 'na...            NaN   \n",
       "2  {'id': 4828089006, 'id_str': '4828089006', 'na...            NaN   \n",
       "3  {'id': 22900494, 'id_str': '22900494', 'name':...            NaN   \n",
       "4  {'id': 4830265798, 'id_str': '4830265798', 'na...            NaN   \n",
       "\n",
       "                                    retweeted_status      tags  \n",
       "0                                                NaN  dobrindt  \n",
       "1  {'created_at': 'Wed Aug 02 22:16:28 +0000 2017...  dobrindt  \n",
       "2  {'created_at': 'Wed Aug 02 22:16:28 +0000 2017...  dobrindt  \n",
       "3                                                NaN  dobrindt  \n",
       "4  {'created_at': 'Fri Aug 25 05:32:42 +0000 2017...       ard  "
      ]
     },
     "execution_count": 27,
     "metadata": {},
     "output_type": "execute_result"
    }
   ],
   "source": [
    "# create df\n",
    "output_df = pd.DataFrame(data={'created_at': created_at_list, 'id': id_list, 'text': text_list,\n",
    "                               'user': user_list, 'extended_tweet': extended_tweet_list,\n",
    "                               'retweeted_status': retweeted_status_list, 'tags': tags_list})\n",
    "\n",
    "# explode df after setting fake column\n",
    "output_df['A'] = 1\n",
    "output_df = output_df.set_index(['A']).apply(pd.Series.explode).reset_index()\n",
    "output_df.drop(columns='A', inplace=True)\n",
    "\n",
    "output_df.head()"
   ]
  },
  {
   "cell_type": "code",
   "execution_count": 28,
   "metadata": {},
   "outputs": [],
   "source": [
    "# save to csv\n",
    "path_file = '../../data/BTW17_Twitter/lda/lda_tweets.csv'\n",
    "output_df.to_csv(path_file)"
   ]
  }
 ],
 "metadata": {
  "kernelspec": {
   "display_name": "Python 3",
   "language": "python",
   "name": "python3"
  },
  "language_info": {
   "codemirror_mode": {
    "name": "ipython",
    "version": 3
   },
   "file_extension": ".py",
   "mimetype": "text/x-python",
   "name": "python",
   "nbconvert_exporter": "python",
   "pygments_lexer": "ipython3",
   "version": "3.7.6"
  }
 },
 "nbformat": 4,
 "nbformat_minor": 4
}
