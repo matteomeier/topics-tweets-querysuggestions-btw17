{
 "cells": [
  {
   "cell_type": "code",
   "execution_count": 1,
   "metadata": {},
   "outputs": [],
   "source": [
    "# necessary imports\n",
    "import os, json\n",
    "import pandas as pd\n",
    "import numpy as np\n",
    "import glob\n",
    "from tqdm.notebook import tqdm\n",
    "pd.set_option('display.max_columns', None)\n",
    "import sys\n",
    "sys.path.append('../scripts/')\n",
    "from twitter import get_hashtags, get_text\n",
    "from lda_preprocessing import nlp_pipeline\n",
    "import ast\n",
    "import re"
   ]
  },
  {
   "cell_type": "code",
   "execution_count": 3,
   "metadata": {},
   "outputs": [
    {
     "data": {
      "text/html": [
       "<div>\n",
       "<style scoped>\n",
       "    .dataframe tbody tr th:only-of-type {\n",
       "        vertical-align: middle;\n",
       "    }\n",
       "\n",
       "    .dataframe tbody tr th {\n",
       "        vertical-align: top;\n",
       "    }\n",
       "\n",
       "    .dataframe thead th {\n",
       "        text-align: right;\n",
       "    }\n",
       "</style>\n",
       "<table border=\"1\" class=\"dataframe\">\n",
       "  <thead>\n",
       "    <tr style=\"text-align: right;\">\n",
       "      <th></th>\n",
       "      <th>hashtag</th>\n",
       "      <th>lda_dates</th>\n",
       "    </tr>\n",
       "  </thead>\n",
       "  <tbody>\n",
       "    <tr>\n",
       "      <th>0</th>\n",
       "      <td>afghanistan</td>\n",
       "      <td>['2017-08-22', '2017-08-23', '2017-08-24', '20...</td>\n",
       "    </tr>\n",
       "    <tr>\n",
       "      <th>1</th>\n",
       "      <td>armut</td>\n",
       "      <td>['2017-08-27', '2017-08-28', '2017-08-29', '20...</td>\n",
       "    </tr>\n",
       "    <tr>\n",
       "      <th>2</th>\n",
       "      <td>bayern</td>\n",
       "      <td>['2017-09-16', '2017-09-17', '2017-09-18', '20...</td>\n",
       "    </tr>\n",
       "    <tr>\n",
       "      <th>3</th>\n",
       "      <td>berlin</td>\n",
       "      <td>['2017-09-21', '2017-09-22', '2017-09-23', '20...</td>\n",
       "    </tr>\n",
       "    <tr>\n",
       "      <th>4</th>\n",
       "      <td>bildung</td>\n",
       "      <td>['2017-09-15', '2017-09-16', '2017-09-17', '20...</td>\n",
       "    </tr>\n",
       "  </tbody>\n",
       "</table>\n",
       "</div>"
      ],
      "text/plain": [
       "       hashtag                                          lda_dates\n",
       "0  afghanistan  ['2017-08-22', '2017-08-23', '2017-08-24', '20...\n",
       "1        armut  ['2017-08-27', '2017-08-28', '2017-08-29', '20...\n",
       "2       bayern  ['2017-09-16', '2017-09-17', '2017-09-18', '20...\n",
       "3       berlin  ['2017-09-21', '2017-09-22', '2017-09-23', '20...\n",
       "4      bildung  ['2017-09-15', '2017-09-16', '2017-09-17', '20..."
      ]
     },
     "execution_count": 3,
     "metadata": {},
     "output_type": "execute_result"
    }
   ],
   "source": [
    "# read lda dates for hashtags\n",
    "dates_df = pd.read_csv('../../data/BTW17_Twitter/peaks/hashtags_dates.csv')\n",
    "dates_df = dates_df[~(dates_df['lda_dates']=='[]')].reset_index()\n",
    "dates_df.drop(columns=['Unnamed: 0', 'index'], axis=1, inplace=True)\n",
    "dates_df.head()"
   ]
  },
  {
   "cell_type": "code",
   "execution_count": 4,
   "metadata": {
    "scrolled": true
   },
   "outputs": [
    {
     "data": {
      "application/vnd.jupyter.widget-view+json": {
       "model_id": "8a180850d0f34f72bbe64626f09e99ae",
       "version_major": 2,
       "version_minor": 0
      },
      "text/plain": [
       "  0%|          | 0/1308 [00:00<?, ?it/s]"
      ]
     },
     "metadata": {},
     "output_type": "display_data"
    }
   ],
   "source": [
    "# set to *.json to load all\n",
    "path_to_json = '../../data/BTW17_Twitter/tweets/*.json'\n",
    "file_list = glob.glob(path_to_json)\n",
    "hashtag_list = dates_df['hashtag'].tolist()\n",
    "lda_dates_list = dates_df['lda_dates'].tolist()\n",
    "\n",
    "created_at_list = []\n",
    "id_list = []\n",
    "text_list = []\n",
    "user_list = []\n",
    "extended_tweet_list = []\n",
    "retweeted_status_list = []\n",
    "tags_list = []\n",
    "\n",
    "# iterate through files create output csv\n",
    "for index in tqdm(range(len(file_list))):\n",
    "    file = file_list[index]\n",
    "    with open(file, 'r') as f:\n",
    "        \n",
    "        # read df\n",
    "        df = pd.read_json(f)\n",
    "        # apply function get hashtags\n",
    "        df['tags'] = df['entities'].apply(get_hashtags)\n",
    "        \n",
    "        # explode tags to rows and drop na values\n",
    "        df = df.explode('tags')\n",
    "        df = df[df['tags'].notna()]\n",
    "        \n",
    "        # change datetime to date and lower all hashtags\n",
    "        df['created_at'] = pd.to_datetime(df['created_at']).dt.date\n",
    "        df['created_at'] = df['created_at'].apply(str)\n",
    "        df['tags'] = df['tags'].apply(lambda x: str(x).lower())\n",
    "                \n",
    "        for i in range(len(dates_df)):\n",
    "            hashtag = hashtag_list[i]\n",
    "            lda_dates = ast.literal_eval(lda_dates_list[i])\n",
    "            temp_df = df[(df['tags']==hashtag)&(df['created_at'].isin(lda_dates))]\n",
    "            \n",
    "            if len(temp_df)==0:\n",
    "                pass\n",
    "            else:\n",
    "                # append data to lists\n",
    "                created_at_list.append(temp_df['created_at'].tolist())\n",
    "                id_list.append(temp_df['id'].tolist())\n",
    "                text_list.append(temp_df['text'].tolist())\n",
    "                user_list.append(temp_df['user'].tolist())\n",
    "                extended_tweet_list.append(temp_df['extended_tweet'].tolist())\n",
    "                retweeted_status_list.append(temp_df['retweeted_status'].tolist())\n",
    "                tags_list.append(temp_df['tags'].tolist())"
   ]
  },
  {
   "cell_type": "code",
   "execution_count": 5,
   "metadata": {
    "scrolled": true
   },
   "outputs": [
    {
     "data": {
      "text/html": [
       "<div>\n",
       "<style scoped>\n",
       "    .dataframe tbody tr th:only-of-type {\n",
       "        vertical-align: middle;\n",
       "    }\n",
       "\n",
       "    .dataframe tbody tr th {\n",
       "        vertical-align: top;\n",
       "    }\n",
       "\n",
       "    .dataframe thead th {\n",
       "        text-align: right;\n",
       "    }\n",
       "</style>\n",
       "<table border=\"1\" class=\"dataframe\">\n",
       "  <thead>\n",
       "    <tr style=\"text-align: right;\">\n",
       "      <th></th>\n",
       "      <th>created_at</th>\n",
       "      <th>id</th>\n",
       "      <th>text</th>\n",
       "      <th>user</th>\n",
       "      <th>extended_tweet</th>\n",
       "      <th>retweeted_status</th>\n",
       "      <th>tags</th>\n",
       "    </tr>\n",
       "  </thead>\n",
       "  <tbody>\n",
       "    <tr>\n",
       "      <th>0</th>\n",
       "      <td>2017-08-02</td>\n",
       "      <td>892868367195025408</td>\n",
       "      <td>RT @Beatrix_vStorch: Ja zum #Diesel. https://t...</td>\n",
       "      <td>{'id': 2746361571, 'id_str': '2746361571', 'na...</td>\n",
       "      <td>NaN</td>\n",
       "      <td>{'created_at': 'Wed Aug 02 16:23:23 +0000 2017...</td>\n",
       "      <td>diesel</td>\n",
       "    </tr>\n",
       "    <tr>\n",
       "      <th>1</th>\n",
       "      <td>2017-08-02</td>\n",
       "      <td>892890742905081856</td>\n",
       "      <td>RT @Beatrix_vStorch: Ja zum #Diesel. https://t...</td>\n",
       "      <td>{'id': 4379225363, 'id_str': '4379225363', 'na...</td>\n",
       "      <td>NaN</td>\n",
       "      <td>{'created_at': 'Wed Aug 02 16:23:23 +0000 2017...</td>\n",
       "      <td>diesel</td>\n",
       "    </tr>\n",
       "    <tr>\n",
       "      <th>2</th>\n",
       "      <td>2017-08-03</td>\n",
       "      <td>892911669633966080</td>\n",
       "      <td>#Diesel #Dobrindt's schützende Hand über Autok...</td>\n",
       "      <td>{'id': 22900494, 'id_str': '22900494', 'name':...</td>\n",
       "      <td>NaN</td>\n",
       "      <td>NaN</td>\n",
       "      <td>diesel</td>\n",
       "    </tr>\n",
       "    <tr>\n",
       "      <th>3</th>\n",
       "      <td>2017-08-25</td>\n",
       "      <td>901109158300315648</td>\n",
       "      <td>RT @fdp: Selbstbestimmung darf keine Frage, so...</td>\n",
       "      <td>{'id': 22564113, 'id_str': '22564113', 'name':...</td>\n",
       "      <td>NaN</td>\n",
       "      <td>{'created_at': 'Fri Aug 25 14:03:53 +0000 2017...</td>\n",
       "      <td>denkenwirneu</td>\n",
       "    </tr>\n",
       "    <tr>\n",
       "      <th>4</th>\n",
       "      <td>2017-08-25</td>\n",
       "      <td>901109469568008192</td>\n",
       "      <td>RT @fdp: Selbstbestimmung darf keine Frage, so...</td>\n",
       "      <td>{'id': 710897145767927808, 'id_str': '71089714...</td>\n",
       "      <td>NaN</td>\n",
       "      <td>{'created_at': 'Fri Aug 25 14:03:53 +0000 2017...</td>\n",
       "      <td>denkenwirneu</td>\n",
       "    </tr>\n",
       "  </tbody>\n",
       "</table>\n",
       "</div>"
      ],
      "text/plain": [
       "   created_at                  id  \\\n",
       "0  2017-08-02  892868367195025408   \n",
       "1  2017-08-02  892890742905081856   \n",
       "2  2017-08-03  892911669633966080   \n",
       "3  2017-08-25  901109158300315648   \n",
       "4  2017-08-25  901109469568008192   \n",
       "\n",
       "                                                text  \\\n",
       "0  RT @Beatrix_vStorch: Ja zum #Diesel. https://t...   \n",
       "1  RT @Beatrix_vStorch: Ja zum #Diesel. https://t...   \n",
       "2  #Diesel #Dobrindt's schützende Hand über Autok...   \n",
       "3  RT @fdp: Selbstbestimmung darf keine Frage, so...   \n",
       "4  RT @fdp: Selbstbestimmung darf keine Frage, so...   \n",
       "\n",
       "                                                user extended_tweet  \\\n",
       "0  {'id': 2746361571, 'id_str': '2746361571', 'na...            NaN   \n",
       "1  {'id': 4379225363, 'id_str': '4379225363', 'na...            NaN   \n",
       "2  {'id': 22900494, 'id_str': '22900494', 'name':...            NaN   \n",
       "3  {'id': 22564113, 'id_str': '22564113', 'name':...            NaN   \n",
       "4  {'id': 710897145767927808, 'id_str': '71089714...            NaN   \n",
       "\n",
       "                                    retweeted_status          tags  \n",
       "0  {'created_at': 'Wed Aug 02 16:23:23 +0000 2017...        diesel  \n",
       "1  {'created_at': 'Wed Aug 02 16:23:23 +0000 2017...        diesel  \n",
       "2                                                NaN        diesel  \n",
       "3  {'created_at': 'Fri Aug 25 14:03:53 +0000 2017...  denkenwirneu  \n",
       "4  {'created_at': 'Fri Aug 25 14:03:53 +0000 2017...  denkenwirneu  "
      ]
     },
     "execution_count": 5,
     "metadata": {},
     "output_type": "execute_result"
    }
   ],
   "source": [
    "# create df\n",
    "output_df = pd.DataFrame(data={'created_at': created_at_list, 'id': id_list, 'text': text_list,\n",
    "                               'user': user_list, 'extended_tweet': extended_tweet_list,\n",
    "                               'retweeted_status': retweeted_status_list, 'tags': tags_list})\n",
    "\n",
    "# explode df after setting fake column\n",
    "output_df['A'] = 1\n",
    "output_df = output_df.set_index(['A']).apply(pd.Series.explode).reset_index()\n",
    "output_df.drop(columns='A', inplace=True)\n",
    "\n",
    "output_df.head()"
   ]
  },
  {
   "cell_type": "code",
   "execution_count": 6,
   "metadata": {},
   "outputs": [],
   "source": [
    "# save to csv\n",
    "path_file = '../../data/BTW17_Twitter/lda/lda_tweets.csv'\n",
    "output_df.to_csv(path_file)"
   ]
  },
  {
   "cell_type": "code",
   "execution_count": 7,
   "metadata": {
    "scrolled": false
   },
   "outputs": [],
   "source": [
    "output_df['retweeted_status'].fillna(0, inplace=True)\n",
    "output_df['extended_tweet'].fillna(0, inplace=True)\n",
    "output_df['full_text'] = output_df.apply(lambda x: get_text(x['extended_tweet'], x['retweeted_status'], x['text']), axis=1)"
   ]
  },
  {
   "cell_type": "code",
   "execution_count": 8,
   "metadata": {},
   "outputs": [],
   "source": [
    "# remove mentions\n",
    "output_df['full_text_processed'] = output_df['full_text'].apply(lambda x: re.sub('@[A-Za-z0-9_]+','', x))\n",
    "\n",
    "# remove numbers\n",
    "output_df['full_text_processed'] = output_df['full_text_processed'].apply(lambda x: re.sub('[0-9]', '', x))"
   ]
  },
  {
   "cell_type": "code",
   "execution_count": 9,
   "metadata": {},
   "outputs": [
    {
     "data": {
      "application/vnd.jupyter.widget-view+json": {
       "model_id": "684a01f453534af7b3e85dba83aa9279",
       "version_major": 2,
       "version_minor": 0
      },
      "text/plain": [
       "  0%|          | 0/62986 [00:00<?, ?it/s]"
      ]
     },
     "metadata": {},
     "output_type": "display_data"
    }
   ],
   "source": [
    "# preprocess tokens\n",
    "tokens = []\n",
    "tweet_list = output_df['full_text_processed'].tolist()\n",
    "for i in tqdm(range(len(output_df))):\n",
    "    tokens.append(lemmatize(tweet_list[i]))"
   ]
  },
  {
   "cell_type": "code",
   "execution_count": 11,
   "metadata": {},
   "outputs": [],
   "source": [
    "output_df['tokens'] = tokens\n",
    "\n",
    "# save preprocessed tweets\n",
    "output_df.to_csv('../../data/BTW17_Twitter/lda/preprocessed_lda_tweets.csv')"
   ]
  },
  {
   "cell_type": "code",
   "execution_count": 38,
   "metadata": {},
   "outputs": [
    {
     "name": "stdout",
     "output_type": "stream",
     "text": [
      "original document: \n",
      "\"Wir werden der soziale Oppositionsführer bleiben. Und wir werden den Regierenden Beine machen.\" @SWagenknecht #btw17\n",
      "\n",
      "tokenized and lemmatized document: \n",
      "['soziale', 'oppositionsführer', 'bleiben', 'regierende', 'bein', 'btw']\n"
     ]
    }
   ],
   "source": [
    "# check if it worked good\n",
    "print('original document: ')\n",
    "print(output_df['full_text'][100])\n",
    "print('\\ntokenized and lemmatized document: ')\n",
    "print(output_df['tokens'][100])"
   ]
  }
 ],
 "metadata": {
  "kernelspec": {
   "display_name": "Python 3",
   "language": "python",
   "name": "python3"
  },
  "language_info": {
   "codemirror_mode": {
    "name": "ipython",
    "version": 3
   },
   "file_extension": ".py",
   "mimetype": "text/x-python",
   "name": "python",
   "nbconvert_exporter": "python",
   "pygments_lexer": "ipython3",
   "version": "3.7.6"
  }
 },
 "nbformat": 4,
 "nbformat_minor": 4
}
